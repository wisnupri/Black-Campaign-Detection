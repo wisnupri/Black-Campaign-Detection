{
  "nbformat": 4,
  "nbformat_minor": 0,
  "metadata": {
    "colab": {
      "provenance": [],
      "collapsed_sections": [
        "sWKy564FaOQk"
      ],
      "mount_file_id": "1W7BmIHH4zkLzjPplMsQnD9NQmPhQ8uit",
      "authorship_tag": "ABX9TyP/ni7RG03MBy9/ETjmWlPr"
    },
    "kernelspec": {
      "name": "python3",
      "display_name": "Python 3"
    },
    "language_info": {
      "name": "python"
    },
    "accelerator": "GPU",
    "gpuClass": "standard"
  },
  "cells": [
    {
      "cell_type": "code",
      "execution_count": null,
      "metadata": {
        "id": "DJJbRU6xZrE1"
      },
      "outputs": [],
      "source": [
        "import numpy as np # linear algebra\n",
        "import pandas as pd\n",
        "\n",
        "import seaborn as sns\n",
        "import matplotlib.pyplot as plt\n",
        "%matplotlib inline"
      ]
    },
    {
      "cell_type": "markdown",
      "source": [
        "# Datasets Merging"
      ],
      "metadata": {
        "id": "ik6u9s3tqHlC"
      }
    },
    {
      "cell_type": "code",
      "source": [
        "# Read CSV files\n",
        "df_ganjar = pd.read_csv(\"data/ganjar-final-cluster.csv\")\n",
        "df_prabowo = pd.read_csv(\"data/prabowo-final-cluster.csv\")\n",
        "df_anies = pd.read_csv(\"data/anies-final-cluster.csv\")"
      ],
      "metadata": {
        "id": "2aTDUk2NtgK0"
      },
      "execution_count": null,
      "outputs": []
    },
    {
      "cell_type": "code",
      "source": [
        "# Display the number of rows of data for each variable\n",
        "print(\"Number of data rows Prabowo: {}\".format(len(df_prabowo)))\n",
        "print(\"Number of data rows Anies: {}\".format(len(df_anies)))\n",
        "print(\"Number of data rows Ganjar: {}\".format(len(df_ganjar)))\n",
        "\n",
        "# Display the total number of rows of data\n",
        "total_rows = len(df_ganjar) + len(df_prabowo) + len(df_anies)\n",
        "print(\"\\nTotal number of rows of data: {}\".format(total_rows))"
      ],
      "metadata": {
        "colab": {
          "base_uri": "https://localhost:8080/"
        },
        "id": "HkuAxmfejqKr",
        "outputId": "b2f3e863-c1ac-4284-91a2-233fcc8f6150"
      },
      "execution_count": null,
      "outputs": [
        {
          "output_type": "stream",
          "name": "stdout",
          "text": [
            "Jumlah baris data Prabowo: 2099\n",
            "Jumlah baris data Anies: 2520\n",
            "Jumlah baris data Ganjar: 4001\n",
            "\n",
            "Jumlah total baris data: 8620\n"
          ]
        }
      ]
    },
    {
      "cell_type": "code",
      "source": [
        "# Merge datasets into one dataframe\n",
        "df_all = pd.concat([df_ganjar, df_prabowo, df_anies], ignore_index=True)\n",
        "\n",
        "# Display total data before deletion\n",
        "total_data_before = len(df_all)\n",
        "print(f\"Total data sebelum penghapusan: {total_data_before} baris\")\n",
        "\n",
        "# Display the number of duplicate data rows before deletion\n",
        "duplicate_rows_before = df_all.duplicated(subset='text_join').sum()\n",
        "print(f\"Jumlah baris data duplikat sebelum penghapusan: {duplicate_rows_before}\")\n",
        "\n",
        "# Delete duplicate rows of data based on text_join column\n",
        "df_all = df_all.drop_duplicates(subset='text_join')\n",
        "\n",
        "# Display total data after duplicate removal\n",
        "total_data_after_duplicates = len(df_all)\n",
        "print(f\"Total data setelah penghapusan duplikat: {total_data_after_duplicates} baris\")\n",
        "\n",
        "# Display the number of empty data rows before deletion\n",
        "null_rows_before = df_all['text_join'].isnull().sum()\n",
        "print(f\"Jumlah baris data kosong sebelum penghapusan: {null_rows_before}\")\n",
        "\n",
        "# Delete data rows with empty or null text_join columns\n",
        "df_all = df_all.dropna(subset=['text_join'])\n",
        "\n",
        "# Display total data after blank deletion\n",
        "total_data_after_nulls = len(df_all)\n",
        "print(f\"Total data setelah penghapusan kosong: {total_data_after_nulls} baris\")\n",
        "\n",
        "# Display the number of duplicate data rows after deletion\n",
        "duplicate_rows_after = df_all.duplicated(subset='text_join').sum()\n",
        "print(f\"Jumlah baris data duplikat setelah penghapusan: {duplicate_rows_after}\")\n",
        "\n",
        "# Display the number of empty data rows after deletion\n",
        "null_rows_after = df_all['text_join'].isnull().sum()\n",
        "print(f\"Jumlah baris data kosong setelah penghapusan: {null_rows_after}\")"
      ],
      "metadata": {
        "colab": {
          "base_uri": "https://localhost:8080/"
        },
        "id": "kfffbj4Uq9_h",
        "outputId": "a5dfc7ea-1157-425d-bf0c-9768f5e4df99"
      },
      "execution_count": null,
      "outputs": [
        {
          "output_type": "stream",
          "name": "stdout",
          "text": [
            "Total data sebelum penghapusan: 8620 baris\n",
            "Jumlah baris data duplikat sebelum penghapusan: 1594\n",
            "Total data setelah penghapusan duplikat: 7026 baris\n",
            "Jumlah baris data kosong sebelum penghapusan: 1\n",
            "Total data setelah penghapusan kosong: 7025 baris\n",
            "Jumlah baris data duplikat setelah penghapusan: 0\n",
            "Jumlah baris data kosong setelah penghapusan: 0\n"
          ]
        }
      ]
    },
    {
      "cell_type": "code",
      "source": [
        "# Save the results to a new CSV file\n",
        "df_all.to_csv(\"all-data-cluster.csv\", index=False)"
      ],
      "metadata": {
        "id": "8LumHempuH6C"
      },
      "execution_count": null,
      "outputs": []
    },
    {
      "cell_type": "markdown",
      "source": [
        "# Process Analysis"
      ],
      "metadata": {
        "id": "o2ZFBbV4qCs2"
      }
    },
    {
      "cell_type": "code",
      "source": [
        "data = pd.read_csv('/data/all-data-cluster.csv')\n",
        "data.head()"
      ],
      "metadata": {
        "colab": {
          "base_uri": "https://localhost:8080/",
          "height": 380
        },
        "id": "-E3ct6ExtLyf",
        "outputId": "ed48c2cd-83dd-4aba-b8bf-7950f27b5f09"
      },
      "execution_count": null,
      "outputs": [
        {
          "output_type": "execute_result",
          "data": {
            "text/plain": [
              "                       created_at         username  \\\n",
              "0  Thu Oct 19 22:07:12 +0000 2023   Tohid_siswanto   \n",
              "1  Thu Oct 19 09:19:41 +0000 2023  hari1234t678910   \n",
              "2  Thu Oct 19 08:47:27 +0000 2023         obor2150   \n",
              "3  Thu Oct 19 06:04:52 +0000 2023      JokoGadhang   \n",
              "4  Thu Oct 19 00:18:09 +0000 2023   mustafaagus007   \n",
              "\n",
              "                                                text  \\\n",
              "0  @OposisiOjol @AdeSudr90969850 @ganjarpranowo @...   \n",
              "1  @ch_chotimah2 @ganjarpranowo @mohmahfudmd Mau ...   \n",
              "2  @ch_chotimah2 @ganjarpranowo @mohmahfudmd Hala...   \n",
              "3  @GunRomli @mohmahfudmd @ganjarpranowo Ini isti...   \n",
              "4  @HusinShihab @mohmahfudmd @ganjarpranowo Nguru...   \n",
              "\n",
              "                                        prepros_text  \\\n",
              "0  calon presiden rakyat ya yg anter rakyat bukan...   \n",
              "1  chotimah mau maju dari manasdh jabat th aja ka...   \n",
              "2  chotimah halah siapa yg masih percaya sama pdi...   \n",
              "3  ini istilahnya introspeksi diri bukan blunder ...   \n",
              "4  ngurus duit  aja kagak becus cuma gede bacot d...   \n",
              "\n",
              "                                           text_join           label  \n",
              "0  calon presiden rakyat anter rakyat wan toamasa...  black-campaign  \n",
              "1  chotimah maju manasdh jabat th kagak becus nan...  black-campaign  \n",
              "2  chotimah halah percaya pdi kecuali orang patah...  black-campaign  \n",
              "3  istilah introspeksi blunder kritik institusi e...  black-campaign  \n",
              "4  ngurus duit kagak becus gede bacot dpn anggota...  black-campaign  "
            ],
            "text/html": [
              "\n",
              "  <div id=\"df-6c4088e5-878d-4cf2-88cc-39b7e980c7dd\" class=\"colab-df-container\">\n",
              "    <div>\n",
              "<style scoped>\n",
              "    .dataframe tbody tr th:only-of-type {\n",
              "        vertical-align: middle;\n",
              "    }\n",
              "\n",
              "    .dataframe tbody tr th {\n",
              "        vertical-align: top;\n",
              "    }\n",
              "\n",
              "    .dataframe thead th {\n",
              "        text-align: right;\n",
              "    }\n",
              "</style>\n",
              "<table border=\"1\" class=\"dataframe\">\n",
              "  <thead>\n",
              "    <tr style=\"text-align: right;\">\n",
              "      <th></th>\n",
              "      <th>created_at</th>\n",
              "      <th>username</th>\n",
              "      <th>text</th>\n",
              "      <th>prepros_text</th>\n",
              "      <th>text_join</th>\n",
              "      <th>label</th>\n",
              "    </tr>\n",
              "  </thead>\n",
              "  <tbody>\n",
              "    <tr>\n",
              "      <th>0</th>\n",
              "      <td>Thu Oct 19 22:07:12 +0000 2023</td>\n",
              "      <td>Tohid_siswanto</td>\n",
              "      <td>@OposisiOjol @AdeSudr90969850 @ganjarpranowo @...</td>\n",
              "      <td>calon presiden rakyat ya yg anter rakyat bukan...</td>\n",
              "      <td>calon presiden rakyat anter rakyat wan toamasa...</td>\n",
              "      <td>black-campaign</td>\n",
              "    </tr>\n",
              "    <tr>\n",
              "      <th>1</th>\n",
              "      <td>Thu Oct 19 09:19:41 +0000 2023</td>\n",
              "      <td>hari1234t678910</td>\n",
              "      <td>@ch_chotimah2 @ganjarpranowo @mohmahfudmd Mau ...</td>\n",
              "      <td>chotimah mau maju dari manasdh jabat th aja ka...</td>\n",
              "      <td>chotimah maju manasdh jabat th kagak becus nan...</td>\n",
              "      <td>black-campaign</td>\n",
              "    </tr>\n",
              "    <tr>\n",
              "      <th>2</th>\n",
              "      <td>Thu Oct 19 08:47:27 +0000 2023</td>\n",
              "      <td>obor2150</td>\n",
              "      <td>@ch_chotimah2 @ganjarpranowo @mohmahfudmd Hala...</td>\n",
              "      <td>chotimah halah siapa yg masih percaya sama pdi...</td>\n",
              "      <td>chotimah halah percaya pdi kecuali orang patah...</td>\n",
              "      <td>black-campaign</td>\n",
              "    </tr>\n",
              "    <tr>\n",
              "      <th>3</th>\n",
              "      <td>Thu Oct 19 06:04:52 +0000 2023</td>\n",
              "      <td>JokoGadhang</td>\n",
              "      <td>@GunRomli @mohmahfudmd @ganjarpranowo Ini isti...</td>\n",
              "      <td>ini istilahnya introspeksi diri bukan blunder ...</td>\n",
              "      <td>istilah introspeksi blunder kritik institusi e...</td>\n",
              "      <td>black-campaign</td>\n",
              "    </tr>\n",
              "    <tr>\n",
              "      <th>4</th>\n",
              "      <td>Thu Oct 19 00:18:09 +0000 2023</td>\n",
              "      <td>mustafaagus007</td>\n",
              "      <td>@HusinShihab @mohmahfudmd @ganjarpranowo Nguru...</td>\n",
              "      <td>ngurus duit  aja kagak becus cuma gede bacot d...</td>\n",
              "      <td>ngurus duit kagak becus gede bacot dpn anggota...</td>\n",
              "      <td>black-campaign</td>\n",
              "    </tr>\n",
              "  </tbody>\n",
              "</table>\n",
              "</div>\n",
              "    <div class=\"colab-df-buttons\">\n",
              "\n",
              "  <div class=\"colab-df-container\">\n",
              "    <button class=\"colab-df-convert\" onclick=\"convertToInteractive('df-6c4088e5-878d-4cf2-88cc-39b7e980c7dd')\"\n",
              "            title=\"Convert this dataframe to an interactive table.\"\n",
              "            style=\"display:none;\">\n",
              "\n",
              "  <svg xmlns=\"http://www.w3.org/2000/svg\" height=\"24px\" viewBox=\"0 -960 960 960\">\n",
              "    <path d=\"M120-120v-720h720v720H120Zm60-500h600v-160H180v160Zm220 220h160v-160H400v160Zm0 220h160v-160H400v160ZM180-400h160v-160H180v160Zm440 0h160v-160H620v160ZM180-180h160v-160H180v160Zm440 0h160v-160H620v160Z\"/>\n",
              "  </svg>\n",
              "    </button>\n",
              "\n",
              "  <style>\n",
              "    .colab-df-container {\n",
              "      display:flex;\n",
              "      gap: 12px;\n",
              "    }\n",
              "\n",
              "    .colab-df-convert {\n",
              "      background-color: #E8F0FE;\n",
              "      border: none;\n",
              "      border-radius: 50%;\n",
              "      cursor: pointer;\n",
              "      display: none;\n",
              "      fill: #1967D2;\n",
              "      height: 32px;\n",
              "      padding: 0 0 0 0;\n",
              "      width: 32px;\n",
              "    }\n",
              "\n",
              "    .colab-df-convert:hover {\n",
              "      background-color: #E2EBFA;\n",
              "      box-shadow: 0px 1px 2px rgba(60, 64, 67, 0.3), 0px 1px 3px 1px rgba(60, 64, 67, 0.15);\n",
              "      fill: #174EA6;\n",
              "    }\n",
              "\n",
              "    .colab-df-buttons div {\n",
              "      margin-bottom: 4px;\n",
              "    }\n",
              "\n",
              "    [theme=dark] .colab-df-convert {\n",
              "      background-color: #3B4455;\n",
              "      fill: #D2E3FC;\n",
              "    }\n",
              "\n",
              "    [theme=dark] .colab-df-convert:hover {\n",
              "      background-color: #434B5C;\n",
              "      box-shadow: 0px 1px 3px 1px rgba(0, 0, 0, 0.15);\n",
              "      filter: drop-shadow(0px 1px 2px rgba(0, 0, 0, 0.3));\n",
              "      fill: #FFFFFF;\n",
              "    }\n",
              "  </style>\n",
              "\n",
              "    <script>\n",
              "      const buttonEl =\n",
              "        document.querySelector('#df-6c4088e5-878d-4cf2-88cc-39b7e980c7dd button.colab-df-convert');\n",
              "      buttonEl.style.display =\n",
              "        google.colab.kernel.accessAllowed ? 'block' : 'none';\n",
              "\n",
              "      async function convertToInteractive(key) {\n",
              "        const element = document.querySelector('#df-6c4088e5-878d-4cf2-88cc-39b7e980c7dd');\n",
              "        const dataTable =\n",
              "          await google.colab.kernel.invokeFunction('convertToInteractive',\n",
              "                                                    [key], {});\n",
              "        if (!dataTable) return;\n",
              "\n",
              "        const docLinkHtml = 'Like what you see? Visit the ' +\n",
              "          '<a target=\"_blank\" href=https://colab.research.google.com/notebooks/data_table.ipynb>data table notebook</a>'\n",
              "          + ' to learn more about interactive tables.';\n",
              "        element.innerHTML = '';\n",
              "        dataTable['output_type'] = 'display_data';\n",
              "        await google.colab.output.renderOutput(dataTable, element);\n",
              "        const docLink = document.createElement('div');\n",
              "        docLink.innerHTML = docLinkHtml;\n",
              "        element.appendChild(docLink);\n",
              "      }\n",
              "    </script>\n",
              "  </div>\n",
              "\n",
              "\n",
              "<div id=\"df-b8512525-0817-401b-b283-5ccceb79f27e\">\n",
              "  <button class=\"colab-df-quickchart\" onclick=\"quickchart('df-b8512525-0817-401b-b283-5ccceb79f27e')\"\n",
              "            title=\"Suggest charts\"\n",
              "            style=\"display:none;\">\n",
              "\n",
              "<svg xmlns=\"http://www.w3.org/2000/svg\" height=\"24px\"viewBox=\"0 0 24 24\"\n",
              "     width=\"24px\">\n",
              "    <g>\n",
              "        <path d=\"M19 3H5c-1.1 0-2 .9-2 2v14c0 1.1.9 2 2 2h14c1.1 0 2-.9 2-2V5c0-1.1-.9-2-2-2zM9 17H7v-7h2v7zm4 0h-2V7h2v10zm4 0h-2v-4h2v4z\"/>\n",
              "    </g>\n",
              "</svg>\n",
              "  </button>\n",
              "\n",
              "<style>\n",
              "  .colab-df-quickchart {\n",
              "      --bg-color: #E8F0FE;\n",
              "      --fill-color: #1967D2;\n",
              "      --hover-bg-color: #E2EBFA;\n",
              "      --hover-fill-color: #174EA6;\n",
              "      --disabled-fill-color: #AAA;\n",
              "      --disabled-bg-color: #DDD;\n",
              "  }\n",
              "\n",
              "  [theme=dark] .colab-df-quickchart {\n",
              "      --bg-color: #3B4455;\n",
              "      --fill-color: #D2E3FC;\n",
              "      --hover-bg-color: #434B5C;\n",
              "      --hover-fill-color: #FFFFFF;\n",
              "      --disabled-bg-color: #3B4455;\n",
              "      --disabled-fill-color: #666;\n",
              "  }\n",
              "\n",
              "  .colab-df-quickchart {\n",
              "    background-color: var(--bg-color);\n",
              "    border: none;\n",
              "    border-radius: 50%;\n",
              "    cursor: pointer;\n",
              "    display: none;\n",
              "    fill: var(--fill-color);\n",
              "    height: 32px;\n",
              "    padding: 0;\n",
              "    width: 32px;\n",
              "  }\n",
              "\n",
              "  .colab-df-quickchart:hover {\n",
              "    background-color: var(--hover-bg-color);\n",
              "    box-shadow: 0 1px 2px rgba(60, 64, 67, 0.3), 0 1px 3px 1px rgba(60, 64, 67, 0.15);\n",
              "    fill: var(--button-hover-fill-color);\n",
              "  }\n",
              "\n",
              "  .colab-df-quickchart-complete:disabled,\n",
              "  .colab-df-quickchart-complete:disabled:hover {\n",
              "    background-color: var(--disabled-bg-color);\n",
              "    fill: var(--disabled-fill-color);\n",
              "    box-shadow: none;\n",
              "  }\n",
              "\n",
              "  .colab-df-spinner {\n",
              "    border: 2px solid var(--fill-color);\n",
              "    border-color: transparent;\n",
              "    border-bottom-color: var(--fill-color);\n",
              "    animation:\n",
              "      spin 1s steps(1) infinite;\n",
              "  }\n",
              "\n",
              "  @keyframes spin {\n",
              "    0% {\n",
              "      border-color: transparent;\n",
              "      border-bottom-color: var(--fill-color);\n",
              "      border-left-color: var(--fill-color);\n",
              "    }\n",
              "    20% {\n",
              "      border-color: transparent;\n",
              "      border-left-color: var(--fill-color);\n",
              "      border-top-color: var(--fill-color);\n",
              "    }\n",
              "    30% {\n",
              "      border-color: transparent;\n",
              "      border-left-color: var(--fill-color);\n",
              "      border-top-color: var(--fill-color);\n",
              "      border-right-color: var(--fill-color);\n",
              "    }\n",
              "    40% {\n",
              "      border-color: transparent;\n",
              "      border-right-color: var(--fill-color);\n",
              "      border-top-color: var(--fill-color);\n",
              "    }\n",
              "    60% {\n",
              "      border-color: transparent;\n",
              "      border-right-color: var(--fill-color);\n",
              "    }\n",
              "    80% {\n",
              "      border-color: transparent;\n",
              "      border-right-color: var(--fill-color);\n",
              "      border-bottom-color: var(--fill-color);\n",
              "    }\n",
              "    90% {\n",
              "      border-color: transparent;\n",
              "      border-bottom-color: var(--fill-color);\n",
              "    }\n",
              "  }\n",
              "</style>\n",
              "\n",
              "  <script>\n",
              "    async function quickchart(key) {\n",
              "      const quickchartButtonEl =\n",
              "        document.querySelector('#' + key + ' button');\n",
              "      quickchartButtonEl.disabled = true;  // To prevent multiple clicks.\n",
              "      quickchartButtonEl.classList.add('colab-df-spinner');\n",
              "      try {\n",
              "        const charts = await google.colab.kernel.invokeFunction(\n",
              "            'suggestCharts', [key], {});\n",
              "      } catch (error) {\n",
              "        console.error('Error during call to suggestCharts:', error);\n",
              "      }\n",
              "      quickchartButtonEl.classList.remove('colab-df-spinner');\n",
              "      quickchartButtonEl.classList.add('colab-df-quickchart-complete');\n",
              "    }\n",
              "    (() => {\n",
              "      let quickchartButtonEl =\n",
              "        document.querySelector('#df-b8512525-0817-401b-b283-5ccceb79f27e button');\n",
              "      quickchartButtonEl.style.display =\n",
              "        google.colab.kernel.accessAllowed ? 'block' : 'none';\n",
              "    })();\n",
              "  </script>\n",
              "</div>\n",
              "    </div>\n",
              "  </div>\n"
            ],
            "application/vnd.google.colaboratory.intrinsic+json": {
              "type": "dataframe",
              "variable_name": "data",
              "repr_error": "'str' object has no attribute 'empty'"
            }
          },
          "metadata": {},
          "execution_count": 6
        }
      ]
    },
    {
      "cell_type": "code",
      "source": [
        "#reviews = np.array(data['text'])[:1600]\n",
        "#labels = np.array(data['label'])[:1600]\n",
        "\n",
        "#dibatasi agar tidak overfitting\n",
        "#hanya menampilkan 600 baris pertama"
      ],
      "metadata": {
        "id": "0N-21V-ladzG"
      },
      "execution_count": null,
      "outputs": []
    },
    {
      "cell_type": "code",
      "source": [
        "data['text_join'].loc[789]"
      ],
      "metadata": {
        "colab": {
          "base_uri": "https://localhost:8080/",
          "height": 53
        },
        "id": "YD__3hfKbIFm",
        "outputId": "90a294c1-13ba-4943-e739-3cd4c7af5a86"
      },
      "execution_count": null,
      "outputs": [
        {
          "output_type": "execute_result",
          "data": {
            "text/plain": [
              "'dukung jokowi marah gibran gagal cawapres prabowo tuduh dukung ganjar buzer bayar jatuh jokowi dukung buta jokowi sukaria mk kabul gugat'"
            ],
            "application/vnd.google.colaboratory.intrinsic+json": {
              "type": "string"
            }
          },
          "metadata": {},
          "execution_count": 7
        }
      ]
    },
    {
      "cell_type": "code",
      "source": [
        "data['label'].loc[789]"
      ],
      "metadata": {
        "colab": {
          "base_uri": "https://localhost:8080/",
          "height": 35
        },
        "id": "EDw7RlNJbPGL",
        "outputId": "45471da4-ce02-46b7-d765-e3e2d9354a85"
      },
      "execution_count": null,
      "outputs": [
        {
          "output_type": "execute_result",
          "data": {
            "text/plain": [
              "'black-campaign'"
            ],
            "application/vnd.google.colaboratory.intrinsic+json": {
              "type": "string"
            }
          },
          "metadata": {},
          "execution_count": 8
        }
      ]
    },
    {
      "cell_type": "code",
      "source": [
        "#Melihat Distribusi Sentimen\n",
        "from collections import Counter\n",
        "\n",
        "Counter(data['label'])"
      ],
      "metadata": {
        "colab": {
          "base_uri": "https://localhost:8080/"
        },
        "id": "21DH2ScsbaeN",
        "outputId": "29ec4ad2-7ca8-42c0-f8a5-8da3d52358fe"
      },
      "execution_count": null,
      "outputs": [
        {
          "output_type": "execute_result",
          "data": {
            "text/plain": [
              "Counter({'black-campaign': 4213, 'nonblack-campaign': 2812})"
            ]
          },
          "metadata": {},
          "execution_count": 9
        }
      ]
    },
    {
      "cell_type": "markdown",
      "source": [
        "**Data pre-processing**\n",
        "1.   see if there is null data\n",
        "2.   view empty data rows\n",
        "3.   remove null rows\n",
        "4.   recheck null data\n",
        "5.   Histogram visualization\n",
        "6.   Display Total class data\n",
        "7.   Countplot Visualization\n",
        "\n"
      ],
      "metadata": {
        "id": "TeTcjTdAedO0"
      }
    },
    {
      "cell_type": "code",
      "source": [
        "data=data.rename(\n",
        "{\n",
        "    \"label\":\"Category\",\n",
        "    \"text_join\":\"Message\"\n",
        "},\n",
        "    axis=1\n",
        ")"
      ],
      "metadata": {
        "id": "DgySeGCRbdBc"
      },
      "execution_count": null,
      "outputs": []
    },
    {
      "cell_type": "code",
      "source": [
        "data_subset = data[[\"Message\", \"Category\"]]\n",
        "print(data_subset.head())"
      ],
      "metadata": {
        "colab": {
          "base_uri": "https://localhost:8080/"
        },
        "id": "qTaWL_oTr7Vt",
        "outputId": "8c703501-cea3-4bde-abf3-6084181cd2bc"
      },
      "execution_count": null,
      "outputs": [
        {
          "output_type": "stream",
          "name": "stdout",
          "text": [
            "                                             Message        Category\n",
            "0  calon presiden rakyat anter rakyat wan toamasa...  black-campaign\n",
            "1  chotimah maju manasdh jabat th kagak becus nan...  black-campaign\n",
            "2  chotimah halah percaya pdi kecuali orang patah...  black-campaign\n",
            "3  istilah introspeksi blunder kritik institusi e...  black-campaign\n",
            "4  ngurus duit kagak becus gede bacot dpn anggota...  black-campaign\n"
          ]
        }
      ]
    },
    {
      "cell_type": "code",
      "source": [
        "data.isnull().sum()"
      ],
      "metadata": {
        "colab": {
          "base_uri": "https://localhost:8080/"
        },
        "id": "lLKRTTMksBoU",
        "outputId": "79229269-81be-48bc-bf1e-a7301d0282c2"
      },
      "execution_count": null,
      "outputs": [
        {
          "output_type": "execute_result",
          "data": {
            "text/plain": [
              "created_at      0\n",
              "username        0\n",
              "text            0\n",
              "prepros_text    0\n",
              "Message         0\n",
              "Category        0\n",
              "dtype: int64"
            ]
          },
          "metadata": {},
          "execution_count": 12
        }
      ]
    },
    {
      "cell_type": "code",
      "source": [
        "null_data = data[data.isnull().any(axis=1)]\n",
        "print(null_data)"
      ],
      "metadata": {
        "colab": {
          "base_uri": "https://localhost:8080/"
        },
        "id": "RaOA22Ex-_g8",
        "outputId": "fca45b9b-9fd8-4f84-ee89-8a95864a1ebf"
      },
      "execution_count": null,
      "outputs": [
        {
          "output_type": "stream",
          "name": "stdout",
          "text": [
            "Empty DataFrame\n",
            "Columns: [created_at, username, text, prepros_text, Message, Category]\n",
            "Index: []\n"
          ]
        }
      ]
    },
    {
      "cell_type": "code",
      "source": [
        "data.dropna(subset=['prepros_text'], inplace=True)"
      ],
      "metadata": {
        "id": "7i5XQTtp_k0M"
      },
      "execution_count": null,
      "outputs": []
    },
    {
      "cell_type": "code",
      "source": [
        "data.isnull().sum()"
      ],
      "metadata": {
        "colab": {
          "base_uri": "https://localhost:8080/"
        },
        "id": "mYkFsel1_rO7",
        "outputId": "9582e2ad-ce93-4ebe-8be8-fcc3cc4b9feb"
      },
      "execution_count": null,
      "outputs": [
        {
          "output_type": "execute_result",
          "data": {
            "text/plain": [
              "created_at      0\n",
              "username        0\n",
              "text            0\n",
              "prepros_text    0\n",
              "Message         0\n",
              "Category        0\n",
              "dtype: int64"
            ]
          },
          "metadata": {},
          "execution_count": 15
        }
      ]
    },
    {
      "cell_type": "code",
      "source": [
        "data[\"Message Length\"]=data[\"Message\"].apply(len)"
      ],
      "metadata": {
        "id": "2AQTA7T5sH8i"
      },
      "execution_count": null,
      "outputs": []
    },
    {
      "cell_type": "code",
      "source": [
        "fig=plt.figure(figsize=(12,8))\n",
        "sns.histplot(\n",
        "    x=data[\"Message Length\"],\n",
        "    hue=data[\"Category\"],\n",
        "    #palette={\"black-campaign\": \"darkred\", \"nonblack-campaign\": \"green\"}  # Ganti warna sesuai keinginan\n",
        "    #palette={\"black-campaign\": \"r\", \"nonblack-campaign\": \"g\"}  # Ganti warna sesuai keinginan\n",
        "    #palette='Paired'  # Ganti warna sesuai keinginan\n",
        ")\n",
        "plt.title(\"Black Campaign & Non-Black Campaign comparision\")\n",
        "plt.show()\n"
      ],
      "metadata": {
        "id": "24IW-zkYsK79",
        "colab": {
          "base_uri": "https://localhost:8080/",
          "height": 673
        },
        "outputId": "b669480b-f7b2-4b4b-9210-2d55ac15fad7"
      },
      "execution_count": null,
      "outputs": [
        {
          "output_type": "display_data",
          "data": {
            "text/plain": [
              "<Figure size 1200x800 with 1 Axes>"
            ],
            "image/png": "[encoded data removed]"
          },
          "metadata": {}
        }
      ]
    },
    {
      "cell_type": "code",
      "source": [
        "pos_desc=data[data[\"Category\"]==\"nonblack-campaign\"][\"Message Length\"].describe()\n",
        "neg_desc=data[data[\"Category\"]==\"black-campaign\"][\"Message Length\"].describe()\n",
        "\n",
        "print(\"Non Black Campaign Messege Length Description:\\n\",pos_desc)\n",
        "print(\"************************************\")\n",
        "print(\"Black Campaign Message Length Description:\\n\",neg_desc)"
      ],
      "metadata": {
        "colab": {
          "base_uri": "https://localhost:8080/"
        },
        "id": "XulpqxjBtWdI",
        "outputId": "9cc87579-755f-401f-f111-225ae8ddce3e"
      },
      "execution_count": null,
      "outputs": [
        {
          "output_type": "stream",
          "name": "stdout",
          "text": [
            "Non Black Campaign Messege Length Description:\n",
            " count    2812.000000\n",
            "mean       74.593172\n",
            "std        44.992227\n",
            "min         3.000000\n",
            "25%        41.000000\n",
            "50%        61.000000\n",
            "75%       100.000000\n",
            "max       257.000000\n",
            "Name: Message Length, dtype: float64\n",
            "************************************\n",
            "Black Campaign Message Length Description:\n",
            " count    4213.000000\n",
            "mean       99.312129\n",
            "std        48.237223\n",
            "min         5.000000\n",
            "25%        60.000000\n",
            "50%        92.000000\n",
            "75%       137.000000\n",
            "max       245.000000\n",
            "Name: Message Length, dtype: float64\n"
          ]
        }
      ]
    },
    {
      "cell_type": "code",
      "source": [
        "data[\"Category\"].value_counts()"
      ],
      "metadata": {
        "colab": {
          "base_uri": "https://localhost:8080/"
        },
        "id": "DY63WfqAt4oA",
        "outputId": "a414056d-7f2d-4a30-f8b7-57d042f2e1a5"
      },
      "execution_count": null,
      "outputs": [
        {
          "output_type": "execute_result",
          "data": {
            "text/plain": [
              "black-campaign       4213\n",
              "nonblack-campaign    2812\n",
              "Name: Category, dtype: int64"
            ]
          },
          "metadata": {},
          "execution_count": 19
        }
      ]
    },
    {
      "cell_type": "code",
      "source": [
        "fig=plt.figure(figsize=(8,6))\n",
        "sns.countplot(\n",
        "    data=data,\n",
        "    x=\"Category\",\n",
        "       #palette={\"black-campaign\": \"firebrick\", \"nonblack-campaign\": \"mediumspringgreen\"}  # Ganti warna sesuai keinginan\n",
        ")\n",
        "\n",
        "plt.title(\"Black Campaign vs Non-Black Campaign\")\n",
        "plt.show()"
      ],
      "metadata": {
        "id": "hUjd21P4t55y",
        "colab": {
          "base_uri": "https://localhost:8080/",
          "height": 564
        },
        "outputId": "98b610ec-39a7-415c-8864-865a37efbcff"
      },
      "execution_count": null,
      "outputs": [
        {
          "output_type": "display_data",
          "data": {
            "text/plain": [
              "<Figure size 800x600 with 1 Axes>"
            ],
            "image/png": "[encoded data removed]"
          },
          "metadata": {}
        }
      ]
    },
    {
      "cell_type": "code",
      "source": [
        "pos_count=data[\"Category\"].value_counts()[0]\n",
        "neg_count=data[\"Category\"].value_counts()[1]\n",
        "\n",
        "total_count=data.shape[0]\n",
        "\n",
        "print(\"Non Black Campaign contains:{:.2f}% of total data.\".format(pos_count/total_count*100))\n",
        "print(\"Black Campaign contains:{:.2f}% of total data.\".format(neg_count/total_count*100))\n"
      ],
      "metadata": {
        "colab": {
          "base_uri": "https://localhost:8080/"
        },
        "id": "DlC7fFl8umxD",
        "outputId": "0736920d-603c-446f-efd0-f6b057afc35c"
      },
      "execution_count": null,
      "outputs": [
        {
          "output_type": "stream",
          "name": "stdout",
          "text": [
            "Non Black Campaign contains:59.97% of total data.\n",
            "Black Campaign contains:40.03% of total data.\n"
          ]
        }
      ]
    },
    {
      "cell_type": "code",
      "source": [
        "#compute the length of majority & minority class\n",
        "minority_len=len(data[data[\"Category\"]==\"nonblack-campaign\"])\n",
        "majority_len=len(data[data[\"Category\"]==\"black-campaign\"])\n",
        "\n",
        "#store the indices of majority and minority class\n",
        "minority_indices=data[data[\"Category\"]==\"nonblack-campaign\"].index\n",
        "majority_indices=data[data[\"Category\"]==\"black-campaign\"].index\n",
        "\n",
        "#generate new majority indices from the total majority_indices\n",
        "#with size equal to minority class length so we obtain equivalent number of indices length\n",
        "random_majority_indices=np.random.choice(\n",
        "    majority_indices,\n",
        "    size=minority_len,\n",
        "    replace=False\n",
        ")\n",
        "\n",
        "#concatenate the two indices to obtain indices of new dataframe\n",
        "undersampled_indices=np.concatenate([minority_indices,random_majority_indices])\n",
        "\n",
        "#create df using new indices\n",
        "df=data.loc[undersampled_indices]\n",
        "\n",
        "#shuffle the sample\n",
        "df=df.sample(frac=1)\n",
        "\n",
        "#reset the index as its all mixed\n",
        "df=df.reset_index()\n",
        "\n",
        "#drop the older index\n",
        "df=df.drop(\n",
        "    columns=[\"index\"],\n",
        ")"
      ],
      "metadata": {
        "id": "UTaz7pEmvmyx"
      },
      "execution_count": null,
      "outputs": []
    },
    {
      "cell_type": "code",
      "source": [
        "df.shape"
      ],
      "metadata": {
        "colab": {
          "base_uri": "https://localhost:8080/"
        },
        "id": "iC7E_5rWvvRf",
        "outputId": "e990d064-e7c5-42cf-9ee6-e7852f701401"
      },
      "execution_count": null,
      "outputs": [
        {
          "output_type": "execute_result",
          "data": {
            "text/plain": [
              "(5624, 7)"
            ]
          },
          "metadata": {},
          "execution_count": 23
        }
      ]
    },
    {
      "cell_type": "code",
      "source": [
        "df[\"Category\"].value_counts()"
      ],
      "metadata": {
        "colab": {
          "base_uri": "https://localhost:8080/"
        },
        "id": "bGyWKqwuvxt6",
        "outputId": "e96dd539-91a5-4733-a15e-43a570147531"
      },
      "execution_count": null,
      "outputs": [
        {
          "output_type": "execute_result",
          "data": {
            "text/plain": [
              "nonblack-campaign    2812\n",
              "black-campaign       2812\n",
              "Name: Category, dtype: int64"
            ]
          },
          "metadata": {},
          "execution_count": 24
        }
      ]
    },
    {
      "cell_type": "code",
      "source": [
        "fig=plt.figure(figsize=(8,6))\n",
        "sns.countplot(\n",
        "    data=df,\n",
        "    x=\"Category\",\n",
        "        #palette={\"black-campaign\": \"darkred\", \"nonblack-campaign\": \"green\"}  # Ganti warna sesuai keinginan\n",
        ")\n",
        "plt.title(\"Pos vs Neg\")\n",
        "plt.show()"
      ],
      "metadata": {
        "id": "iN44xqW8v3QU",
        "colab": {
          "base_uri": "https://localhost:8080/",
          "height": 564
        },
        "outputId": "d95741e9-4e61-4d80-c4f8-cbafda76f1fb"
      },
      "execution_count": null,
      "outputs": [
        {
          "output_type": "display_data",
          "data": {
            "text/plain": [
              "<Figure size 800x600 with 1 Axes>"
            ],
            "image/png": "[encoded data removed]"
          },
          "metadata": {}
        }
      ]
    },
    {
      "cell_type": "code",
      "source": [
        "df.head()"
      ],
      "metadata": {
        "colab": {
          "base_uri": "https://localhost:8080/",
          "height": 414
        },
        "id": "HZDHVYDJv7kE",
        "outputId": "feed161c-0211-4fdb-a8f7-e4aa485759f3"
      },
      "execution_count": null,
      "outputs": [
        {
          "output_type": "execute_result",
          "data": {
            "text/plain": [
              "                       created_at         username  \\\n",
              "0  Sat Sep 30 10:10:46 +0000 2023        Abid92016   \n",
              "1  Wed Oct 18 14:09:55 +0000 2023         Franyy51   \n",
              "2  Wed Oct 18 01:42:42 +0000 2023  muhammadsyakur2   \n",
              "3  Sat Sep 30 02:57:09 +0000 2023       Sigmahalim   \n",
              "4  Thu Oct 19 17:46:19 +0000 2023        renagata2   \n",
              "\n",
              "                                                text  \\\n",
              "0  @ganjarpranowo @IdeafestID Bergerak untuk maju...   \n",
              "1  Hakkul yaqiiin pasti menang dan mampu bawa Ind...   \n",
              "2  satu yg menurut ane prestasi terbaik Anies Bas...   \n",
              "3  @handayani_44277 @Aryprasetyo85 @jokowi @ganja...   \n",
              "4  @KataNadiaaa Aku teruss mendukung keras beliau...   \n",
              "\n",
              "                                        prepros_text  \\\n",
              "0  bergerak untuk maju bersama pak ganjar para pe...   \n",
              "1  hakkul yaqiiin pasti menang dan mampu bawa ind...   \n",
              "2  satu yg menurut ane prestasi terbaik anies bas...   \n",
              "3  nakula anakkolong yantie andika juragannya bec...   \n",
              "4  aku teruss mendukung keras beliau yakni pa gan...   \n",
              "\n",
              "                                             Message           Category  \\\n",
              "0  gerak maju ganjar pemuda butuh dukung fasilita...  nonblack-campaign   \n",
              "1  hakkul yaqiiin menang bawa indonesia sejahtera...  nonblack-campaign   \n",
              "2  ane prestasi baik anies baswedan adlh menguran...  nonblack-campaign   \n",
              "3      nakula anakkolong yantie andika juragan becus     black-campaign   \n",
              "4  teruss dukung keras beliau pa ganjar gaada rag...     black-campaign   \n",
              "\n",
              "   Message Length  \n",
              "0             110  \n",
              "1              78  \n",
              "2             186  \n",
              "3              45  \n",
              "4              85  "
            ],
            "text/html": [
              "\n",
              "  <div id=\"df-59e484bf-9a90-4a1e-a5c8-0af41d7db0e8\" class=\"colab-df-container\">\n",
              "    <div>\n",
              "<style scoped>\n",
              "    .dataframe tbody tr th:only-of-type {\n",
              "        vertical-align: middle;\n",
              "    }\n",
              "\n",
              "    .dataframe tbody tr th {\n",
              "        vertical-align: top;\n",
              "    }\n",
              "\n",
              "    .dataframe thead th {\n",
              "        text-align: right;\n",
              "    }\n",
              "</style>\n",
              "<table border=\"1\" class=\"dataframe\">\n",
              "  <thead>\n",
              "    <tr style=\"text-align: right;\">\n",
              "      <th></th>\n",
              "      <th>created_at</th>\n",
              "      <th>username</th>\n",
              "      <th>text</th>\n",
              "      <th>prepros_text</th>\n",
              "      <th>Message</th>\n",
              "      <th>Category</th>\n",
              "      <th>Message Length</th>\n",
              "    </tr>\n",
              "  </thead>\n",
              "  <tbody>\n",
              "    <tr>\n",
              "      <th>0</th>\n",
              "      <td>Sat Sep 30 10:10:46 +0000 2023</td>\n",
              "      <td>Abid92016</td>\n",
              "      <td>@ganjarpranowo @IdeafestID Bergerak untuk maju...</td>\n",
              "      <td>bergerak untuk maju bersama pak ganjar para pe...</td>\n",
              "      <td>gerak maju ganjar pemuda butuh dukung fasilita...</td>\n",
              "      <td>nonblack-campaign</td>\n",
              "      <td>110</td>\n",
              "    </tr>\n",
              "    <tr>\n",
              "      <th>1</th>\n",
              "      <td>Wed Oct 18 14:09:55 +0000 2023</td>\n",
              "      <td>Franyy51</td>\n",
              "      <td>Hakkul yaqiiin pasti menang dan mampu bawa Ind...</td>\n",
              "      <td>hakkul yaqiiin pasti menang dan mampu bawa ind...</td>\n",
              "      <td>hakkul yaqiiin menang bawa indonesia sejahtera...</td>\n",
              "      <td>nonblack-campaign</td>\n",
              "      <td>78</td>\n",
              "    </tr>\n",
              "    <tr>\n",
              "      <th>2</th>\n",
              "      <td>Wed Oct 18 01:42:42 +0000 2023</td>\n",
              "      <td>muhammadsyakur2</td>\n",
              "      <td>satu yg menurut ane prestasi terbaik Anies Bas...</td>\n",
              "      <td>satu yg menurut ane prestasi terbaik anies bas...</td>\n",
              "      <td>ane prestasi baik anies baswedan adlh menguran...</td>\n",
              "      <td>nonblack-campaign</td>\n",
              "      <td>186</td>\n",
              "    </tr>\n",
              "    <tr>\n",
              "      <th>3</th>\n",
              "      <td>Sat Sep 30 02:57:09 +0000 2023</td>\n",
              "      <td>Sigmahalim</td>\n",
              "      <td>@handayani_44277 @Aryprasetyo85 @jokowi @ganja...</td>\n",
              "      <td>nakula anakkolong yantie andika juragannya bec...</td>\n",
              "      <td>nakula anakkolong yantie andika juragan becus</td>\n",
              "      <td>black-campaign</td>\n",
              "      <td>45</td>\n",
              "    </tr>\n",
              "    <tr>\n",
              "      <th>4</th>\n",
              "      <td>Thu Oct 19 17:46:19 +0000 2023</td>\n",
              "      <td>renagata2</td>\n",
              "      <td>@KataNadiaaa Aku teruss mendukung keras beliau...</td>\n",
              "      <td>aku teruss mendukung keras beliau yakni pa gan...</td>\n",
              "      <td>teruss dukung keras beliau pa ganjar gaada rag...</td>\n",
              "      <td>black-campaign</td>\n",
              "      <td>85</td>\n",
              "    </tr>\n",
              "  </tbody>\n",
              "</table>\n",
              "</div>\n",
              "    <div class=\"colab-df-buttons\">\n",
              "\n",
              "  <div class=\"colab-df-container\">\n",
              "    <button class=\"colab-df-convert\" onclick=\"convertToInteractive('df-59e484bf-9a90-4a1e-a5c8-0af41d7db0e8')\"\n",
              "            title=\"Convert this dataframe to an interactive table.\"\n",
              "            style=\"display:none;\">\n",
              "\n",
              "  <svg xmlns=\"http://www.w3.org/2000/svg\" height=\"24px\" viewBox=\"0 -960 960 960\">\n",
              "    <path d=\"M120-120v-720h720v720H120Zm60-500h600v-160H180v160Zm220 220h160v-160H400v160Zm0 220h160v-160H400v160ZM180-400h160v-160H180v160Zm440 0h160v-160H620v160ZM180-180h160v-160H180v160Zm440 0h160v-160H620v160Z\"/>\n",
              "  </svg>\n",
              "    </button>\n",
              "\n",
              "  <style>\n",
              "    .colab-df-container {\n",
              "      display:flex;\n",
              "      gap: 12px;\n",
              "    }\n",
              "\n",
              "    .colab-df-convert {\n",
              "      background-color: #E8F0FE;\n",
              "      border: none;\n",
              "      border-radius: 50%;\n",
              "      cursor: pointer;\n",
              "      display: none;\n",
              "      fill: #1967D2;\n",
              "      height: 32px;\n",
              "      padding: 0 0 0 0;\n",
              "      width: 32px;\n",
              "    }\n",
              "\n",
              "    .colab-df-convert:hover {\n",
              "      background-color: #E2EBFA;\n",
              "      box-shadow: 0px 1px 2px rgba(60, 64, 67, 0.3), 0px 1px 3px 1px rgba(60, 64, 67, 0.15);\n",
              "      fill: #174EA6;\n",
              "    }\n",
              "\n",
              "    .colab-df-buttons div {\n",
              "      margin-bottom: 4px;\n",
              "    }\n",
              "\n",
              "    [theme=dark] .colab-df-convert {\n",
              "      background-color: #3B4455;\n",
              "      fill: #D2E3FC;\n",
              "    }\n",
              "\n",
              "    [theme=dark] .colab-df-convert:hover {\n",
              "      background-color: #434B5C;\n",
              "      box-shadow: 0px 1px 3px 1px rgba(0, 0, 0, 0.15);\n",
              "      filter: drop-shadow(0px 1px 2px rgba(0, 0, 0, 0.3));\n",
              "      fill: #FFFFFF;\n",
              "    }\n",
              "  </style>\n",
              "\n",
              "    <script>\n",
              "      const buttonEl =\n",
              "        document.querySelector('#df-59e484bf-9a90-4a1e-a5c8-0af41d7db0e8 button.colab-df-convert');\n",
              "      buttonEl.style.display =\n",
              "        google.colab.kernel.accessAllowed ? 'block' : 'none';\n",
              "\n",
              "      async function convertToInteractive(key) {\n",
              "        const element = document.querySelector('#df-59e484bf-9a90-4a1e-a5c8-0af41d7db0e8');\n",
              "        const dataTable =\n",
              "          await google.colab.kernel.invokeFunction('convertToInteractive',\n",
              "                                                    [key], {});\n",
              "        if (!dataTable) return;\n",
              "\n",
              "        const docLinkHtml = 'Like what you see? Visit the ' +\n",
              "          '<a target=\"_blank\" href=https://colab.research.google.com/notebooks/data_table.ipynb>data table notebook</a>'\n",
              "          + ' to learn more about interactive tables.';\n",
              "        element.innerHTML = '';\n",
              "        dataTable['output_type'] = 'display_data';\n",
              "        await google.colab.output.renderOutput(dataTable, element);\n",
              "        const docLink = document.createElement('div');\n",
              "        docLink.innerHTML = docLinkHtml;\n",
              "        element.appendChild(docLink);\n",
              "      }\n",
              "    </script>\n",
              "  </div>\n",
              "\n",
              "\n",
              "<div id=\"df-d7cd05ca-e56f-43a3-8763-505da62c2f79\">\n",
              "  <button class=\"colab-df-quickchart\" onclick=\"quickchart('df-d7cd05ca-e56f-43a3-8763-505da62c2f79')\"\n",
              "            title=\"Suggest charts\"\n",
              "            style=\"display:none;\">\n",
              "\n",
              "<svg xmlns=\"http://www.w3.org/2000/svg\" height=\"24px\"viewBox=\"0 0 24 24\"\n",
              "     width=\"24px\">\n",
              "    <g>\n",
              "        <path d=\"M19 3H5c-1.1 0-2 .9-2 2v14c0 1.1.9 2 2 2h14c1.1 0 2-.9 2-2V5c0-1.1-.9-2-2-2zM9 17H7v-7h2v7zm4 0h-2V7h2v10zm4 0h-2v-4h2v4z\"/>\n",
              "    </g>\n",
              "</svg>\n",
              "  </button>\n",
              "\n",
              "<style>\n",
              "  .colab-df-quickchart {\n",
              "      --bg-color: #E8F0FE;\n",
              "      --fill-color: #1967D2;\n",
              "      --hover-bg-color: #E2EBFA;\n",
              "      --hover-fill-color: #174EA6;\n",
              "      --disabled-fill-color: #AAA;\n",
              "      --disabled-bg-color: #DDD;\n",
              "  }\n",
              "\n",
              "  [theme=dark] .colab-df-quickchart {\n",
              "      --bg-color: #3B4455;\n",
              "      --fill-color: #D2E3FC;\n",
              "      --hover-bg-color: #434B5C;\n",
              "      --hover-fill-color: #FFFFFF;\n",
              "      --disabled-bg-color: #3B4455;\n",
              "      --disabled-fill-color: #666;\n",
              "  }\n",
              "\n",
              "  .colab-df-quickchart {\n",
              "    background-color: var(--bg-color);\n",
              "    border: none;\n",
              "    border-radius: 50%;\n",
              "    cursor: pointer;\n",
              "    display: none;\n",
              "    fill: var(--fill-color);\n",
              "    height: 32px;\n",
              "    padding: 0;\n",
              "    width: 32px;\n",
              "  }\n",
              "\n",
              "  .colab-df-quickchart:hover {\n",
              "    background-color: var(--hover-bg-color);\n",
              "    box-shadow: 0 1px 2px rgba(60, 64, 67, 0.3), 0 1px 3px 1px rgba(60, 64, 67, 0.15);\n",
              "    fill: var(--button-hover-fill-color);\n",
              "  }\n",
              "\n",
              "  .colab-df-quickchart-complete:disabled,\n",
              "  .colab-df-quickchart-complete:disabled:hover {\n",
              "    background-color: var(--disabled-bg-color);\n",
              "    fill: var(--disabled-fill-color);\n",
              "    box-shadow: none;\n",
              "  }\n",
              "\n",
              "  .colab-df-spinner {\n",
              "    border: 2px solid var(--fill-color);\n",
              "    border-color: transparent;\n",
              "    border-bottom-color: var(--fill-color);\n",
              "    animation:\n",
              "      spin 1s steps(1) infinite;\n",
              "  }\n",
              "\n",
              "  @keyframes spin {\n",
              "    0% {\n",
              "      border-color: transparent;\n",
              "      border-bottom-color: var(--fill-color);\n",
              "      border-left-color: var(--fill-color);\n",
              "    }\n",
              "    20% {\n",
              "      border-color: transparent;\n",
              "      border-left-color: var(--fill-color);\n",
              "      border-top-color: var(--fill-color);\n",
              "    }\n",
              "    30% {\n",
              "      border-color: transparent;\n",
              "      border-left-color: var(--fill-color);\n",
              "      border-top-color: var(--fill-color);\n",
              "      border-right-color: var(--fill-color);\n",
              "    }\n",
              "    40% {\n",
              "      border-color: transparent;\n",
              "      border-right-color: var(--fill-color);\n",
              "      border-top-color: var(--fill-color);\n",
              "    }\n",
              "    60% {\n",
              "      border-color: transparent;\n",
              "      border-right-color: var(--fill-color);\n",
              "    }\n",
              "    80% {\n",
              "      border-color: transparent;\n",
              "      border-right-color: var(--fill-color);\n",
              "      border-bottom-color: var(--fill-color);\n",
              "    }\n",
              "    90% {\n",
              "      border-color: transparent;\n",
              "      border-bottom-color: var(--fill-color);\n",
              "    }\n",
              "  }\n",
              "</style>\n",
              "\n",
              "  <script>\n",
              "    async function quickchart(key) {\n",
              "      const quickchartButtonEl =\n",
              "        document.querySelector('#' + key + ' button');\n",
              "      quickchartButtonEl.disabled = true;  // To prevent multiple clicks.\n",
              "      quickchartButtonEl.classList.add('colab-df-spinner');\n",
              "      try {\n",
              "        const charts = await google.colab.kernel.invokeFunction(\n",
              "            'suggestCharts', [key], {});\n",
              "      } catch (error) {\n",
              "        console.error('Error during call to suggestCharts:', error);\n",
              "      }\n",
              "      quickchartButtonEl.classList.remove('colab-df-spinner');\n",
              "      quickchartButtonEl.classList.add('colab-df-quickchart-complete');\n",
              "    }\n",
              "    (() => {\n",
              "      let quickchartButtonEl =\n",
              "        document.querySelector('#df-d7cd05ca-e56f-43a3-8763-505da62c2f79 button');\n",
              "      quickchartButtonEl.style.display =\n",
              "        google.colab.kernel.accessAllowed ? 'block' : 'none';\n",
              "    })();\n",
              "  </script>\n",
              "</div>\n",
              "    </div>\n",
              "  </div>\n"
            ],
            "application/vnd.google.colaboratory.intrinsic+json": {
              "type": "dataframe",
              "variable_name": "df",
              "repr_error": "'str' object has no attribute 'empty'"
            }
          },
          "metadata": {},
          "execution_count": 26
        }
      ]
    },
    {
      "cell_type": "code",
      "source": [
        "df[\"Label\"]=df[\"Category\"].map(\n",
        "    {\n",
        "        \"nonblack-campaign\":0,\n",
        "        \"black-campaign\":1\n",
        "    }\n",
        ")"
      ],
      "metadata": {
        "id": "XGL3kn_wwA7i"
      },
      "execution_count": null,
      "outputs": []
    },
    {
      "cell_type": "code",
      "source": [
        "df.head()"
      ],
      "metadata": {
        "colab": {
          "base_uri": "https://localhost:8080/",
          "height": 484
        },
        "id": "6dJYXjmcwHzp",
        "outputId": "1f79149e-015f-4e15-e176-a7075b7c8d52"
      },
      "execution_count": null,
      "outputs": [
        {
          "output_type": "execute_result",
          "data": {
            "text/plain": [
              "                       created_at         username  \\\n",
              "0  Sat Sep 30 10:10:46 +0000 2023        Abid92016   \n",
              "1  Wed Oct 18 14:09:55 +0000 2023         Franyy51   \n",
              "2  Wed Oct 18 01:42:42 +0000 2023  muhammadsyakur2   \n",
              "3  Sat Sep 30 02:57:09 +0000 2023       Sigmahalim   \n",
              "4  Thu Oct 19 17:46:19 +0000 2023        renagata2   \n",
              "\n",
              "                                                text  \\\n",
              "0  @ganjarpranowo @IdeafestID Bergerak untuk maju...   \n",
              "1  Hakkul yaqiiin pasti menang dan mampu bawa Ind...   \n",
              "2  satu yg menurut ane prestasi terbaik Anies Bas...   \n",
              "3  @handayani_44277 @Aryprasetyo85 @jokowi @ganja...   \n",
              "4  @KataNadiaaa Aku teruss mendukung keras beliau...   \n",
              "\n",
              "                                        prepros_text  \\\n",
              "0  bergerak untuk maju bersama pak ganjar para pe...   \n",
              "1  hakkul yaqiiin pasti menang dan mampu bawa ind...   \n",
              "2  satu yg menurut ane prestasi terbaik anies bas...   \n",
              "3  nakula anakkolong yantie andika juragannya bec...   \n",
              "4  aku teruss mendukung keras beliau yakni pa gan...   \n",
              "\n",
              "                                             Message           Category  \\\n",
              "0  gerak maju ganjar pemuda butuh dukung fasilita...  nonblack-campaign   \n",
              "1  hakkul yaqiiin menang bawa indonesia sejahtera...  nonblack-campaign   \n",
              "2  ane prestasi baik anies baswedan adlh menguran...  nonblack-campaign   \n",
              "3      nakula anakkolong yantie andika juragan becus     black-campaign   \n",
              "4  teruss dukung keras beliau pa ganjar gaada rag...     black-campaign   \n",
              "\n",
              "   Message Length  Label  \n",
              "0             110      0  \n",
              "1              78      0  \n",
              "2             186      0  \n",
              "3              45      1  \n",
              "4              85      1  "
            ],
            "text/html": [
              "\n",
              "  <div id=\"df-0a1210a3-cceb-42bd-ba41-5231e0594eaa\" class=\"colab-df-container\">\n",
              "    <div>\n",
              "<style scoped>\n",
              "    .dataframe tbody tr th:only-of-type {\n",
              "        vertical-align: middle;\n",
              "    }\n",
              "\n",
              "    .dataframe tbody tr th {\n",
              "        vertical-align: top;\n",
              "    }\n",
              "\n",
              "    .dataframe thead th {\n",
              "        text-align: right;\n",
              "    }\n",
              "</style>\n",
              "<table border=\"1\" class=\"dataframe\">\n",
              "  <thead>\n",
              "    <tr style=\"text-align: right;\">\n",
              "      <th></th>\n",
              "      <th>created_at</th>\n",
              "      <th>username</th>\n",
              "      <th>text</th>\n",
              "      <th>prepros_text</th>\n",
              "      <th>Message</th>\n",
              "      <th>Category</th>\n",
              "      <th>Message Length</th>\n",
              "      <th>Label</th>\n",
              "    </tr>\n",
              "  </thead>\n",
              "  <tbody>\n",
              "    <tr>\n",
              "      <th>0</th>\n",
              "      <td>Sat Sep 30 10:10:46 +0000 2023</td>\n",
              "      <td>Abid92016</td>\n",
              "      <td>@ganjarpranowo @IdeafestID Bergerak untuk maju...</td>\n",
              "      <td>bergerak untuk maju bersama pak ganjar para pe...</td>\n",
              "      <td>gerak maju ganjar pemuda butuh dukung fasilita...</td>\n",
              "      <td>nonblack-campaign</td>\n",
              "      <td>110</td>\n",
              "      <td>0</td>\n",
              "    </tr>\n",
              "    <tr>\n",
              "      <th>1</th>\n",
              "      <td>Wed Oct 18 14:09:55 +0000 2023</td>\n",
              "      <td>Franyy51</td>\n",
              "      <td>Hakkul yaqiiin pasti menang dan mampu bawa Ind...</td>\n",
              "      <td>hakkul yaqiiin pasti menang dan mampu bawa ind...</td>\n",
              "      <td>hakkul yaqiiin menang bawa indonesia sejahtera...</td>\n",
              "      <td>nonblack-campaign</td>\n",
              "      <td>78</td>\n",
              "      <td>0</td>\n",
              "    </tr>\n",
              "    <tr>\n",
              "      <th>2</th>\n",
              "      <td>Wed Oct 18 01:42:42 +0000 2023</td>\n",
              "      <td>muhammadsyakur2</td>\n",
              "      <td>satu yg menurut ane prestasi terbaik Anies Bas...</td>\n",
              "      <td>satu yg menurut ane prestasi terbaik anies bas...</td>\n",
              "      <td>ane prestasi baik anies baswedan adlh menguran...</td>\n",
              "      <td>nonblack-campaign</td>\n",
              "      <td>186</td>\n",
              "      <td>0</td>\n",
              "    </tr>\n",
              "    <tr>\n",
              "      <th>3</th>\n",
              "      <td>Sat Sep 30 02:57:09 +0000 2023</td>\n",
              "      <td>Sigmahalim</td>\n",
              "      <td>@handayani_44277 @Aryprasetyo85 @jokowi @ganja...</td>\n",
              "      <td>nakula anakkolong yantie andika juragannya bec...</td>\n",
              "      <td>nakula anakkolong yantie andika juragan becus</td>\n",
              "      <td>black-campaign</td>\n",
              "      <td>45</td>\n",
              "      <td>1</td>\n",
              "    </tr>\n",
              "    <tr>\n",
              "      <th>4</th>\n",
              "      <td>Thu Oct 19 17:46:19 +0000 2023</td>\n",
              "      <td>renagata2</td>\n",
              "      <td>@KataNadiaaa Aku teruss mendukung keras beliau...</td>\n",
              "      <td>aku teruss mendukung keras beliau yakni pa gan...</td>\n",
              "      <td>teruss dukung keras beliau pa ganjar gaada rag...</td>\n",
              "      <td>black-campaign</td>\n",
              "      <td>85</td>\n",
              "      <td>1</td>\n",
              "    </tr>\n",
              "  </tbody>\n",
              "</table>\n",
              "</div>\n",
              "    <div class=\"colab-df-buttons\">\n",
              "\n",
              "  <div class=\"colab-df-container\">\n",
              "    <button class=\"colab-df-convert\" onclick=\"convertToInteractive('df-0a1210a3-cceb-42bd-ba41-5231e0594eaa')\"\n",
              "            title=\"Convert this dataframe to an interactive table.\"\n",
              "            style=\"display:none;\">\n",
              "\n",
              "  <svg xmlns=\"http://www.w3.org/2000/svg\" height=\"24px\" viewBox=\"0 -960 960 960\">\n",
              "    <path d=\"M120-120v-720h720v720H120Zm60-500h600v-160H180v160Zm220 220h160v-160H400v160Zm0 220h160v-160H400v160ZM180-400h160v-160H180v160Zm440 0h160v-160H620v160ZM180-180h160v-160H180v160Zm440 0h160v-160H620v160Z\"/>\n",
              "  </svg>\n",
              "    </button>\n",
              "\n",
              "  <style>\n",
              "    .colab-df-container {\n",
              "      display:flex;\n",
              "      gap: 12px;\n",
              "    }\n",
              "\n",
              "    .colab-df-convert {\n",
              "      background-color: #E8F0FE;\n",
              "      border: none;\n",
              "      border-radius: 50%;\n",
              "      cursor: pointer;\n",
              "      display: none;\n",
              "      fill: #1967D2;\n",
              "      height: 32px;\n",
              "      padding: 0 0 0 0;\n",
              "      width: 32px;\n",
              "    }\n",
              "\n",
              "    .colab-df-convert:hover {\n",
              "      background-color: #E2EBFA;\n",
              "      box-shadow: 0px 1px 2px rgba(60, 64, 67, 0.3), 0px 1px 3px 1px rgba(60, 64, 67, 0.15);\n",
              "      fill: #174EA6;\n",
              "    }\n",
              "\n",
              "    .colab-df-buttons div {\n",
              "      margin-bottom: 4px;\n",
              "    }\n",
              "\n",
              "    [theme=dark] .colab-df-convert {\n",
              "      background-color: #3B4455;\n",
              "      fill: #D2E3FC;\n",
              "    }\n",
              "\n",
              "    [theme=dark] .colab-df-convert:hover {\n",
              "      background-color: #434B5C;\n",
              "      box-shadow: 0px 1px 3px 1px rgba(0, 0, 0, 0.15);\n",
              "      filter: drop-shadow(0px 1px 2px rgba(0, 0, 0, 0.3));\n",
              "      fill: #FFFFFF;\n",
              "    }\n",
              "  </style>\n",
              "\n",
              "    <script>\n",
              "      const buttonEl =\n",
              "        document.querySelector('#df-0a1210a3-cceb-42bd-ba41-5231e0594eaa button.colab-df-convert');\n",
              "      buttonEl.style.display =\n",
              "        google.colab.kernel.accessAllowed ? 'block' : 'none';\n",
              "\n",
              "      async function convertToInteractive(key) {\n",
              "        const element = document.querySelector('#df-0a1210a3-cceb-42bd-ba41-5231e0594eaa');\n",
              "        const dataTable =\n",
              "          await google.colab.kernel.invokeFunction('convertToInteractive',\n",
              "                                                    [key], {});\n",
              "        if (!dataTable) return;\n",
              "\n",
              "        const docLinkHtml = 'Like what you see? Visit the ' +\n",
              "          '<a target=\"_blank\" href=https://colab.research.google.com/notebooks/data_table.ipynb>data table notebook</a>'\n",
              "          + ' to learn more about interactive tables.';\n",
              "        element.innerHTML = '';\n",
              "        dataTable['output_type'] = 'display_data';\n",
              "        await google.colab.output.renderOutput(dataTable, element);\n",
              "        const docLink = document.createElement('div');\n",
              "        docLink.innerHTML = docLinkHtml;\n",
              "        element.appendChild(docLink);\n",
              "      }\n",
              "    </script>\n",
              "  </div>\n",
              "\n",
              "\n",
              "<div id=\"df-d4f50373-8204-4cdb-9aaa-1f87a64674c0\">\n",
              "  <button class=\"colab-df-quickchart\" onclick=\"quickchart('df-d4f50373-8204-4cdb-9aaa-1f87a64674c0')\"\n",
              "            title=\"Suggest charts\"\n",
              "            style=\"display:none;\">\n",
              "\n",
              "<svg xmlns=\"http://www.w3.org/2000/svg\" height=\"24px\"viewBox=\"0 0 24 24\"\n",
              "     width=\"24px\">\n",
              "    <g>\n",
              "        <path d=\"M19 3H5c-1.1 0-2 .9-2 2v14c0 1.1.9 2 2 2h14c1.1 0 2-.9 2-2V5c0-1.1-.9-2-2-2zM9 17H7v-7h2v7zm4 0h-2V7h2v10zm4 0h-2v-4h2v4z\"/>\n",
              "    </g>\n",
              "</svg>\n",
              "  </button>\n",
              "\n",
              "<style>\n",
              "  .colab-df-quickchart {\n",
              "      --bg-color: #E8F0FE;\n",
              "      --fill-color: #1967D2;\n",
              "      --hover-bg-color: #E2EBFA;\n",
              "      --hover-fill-color: #174EA6;\n",
              "      --disabled-fill-color: #AAA;\n",
              "      --disabled-bg-color: #DDD;\n",
              "  }\n",
              "\n",
              "  [theme=dark] .colab-df-quickchart {\n",
              "      --bg-color: #3B4455;\n",
              "      --fill-color: #D2E3FC;\n",
              "      --hover-bg-color: #434B5C;\n",
              "      --hover-fill-color: #FFFFFF;\n",
              "      --disabled-bg-color: #3B4455;\n",
              "      --disabled-fill-color: #666;\n",
              "  }\n",
              "\n",
              "  .colab-df-quickchart {\n",
              "    background-color: var(--bg-color);\n",
              "    border: none;\n",
              "    border-radius: 50%;\n",
              "    cursor: pointer;\n",
              "    display: none;\n",
              "    fill: var(--fill-color);\n",
              "    height: 32px;\n",
              "    padding: 0;\n",
              "    width: 32px;\n",
              "  }\n",
              "\n",
              "  .colab-df-quickchart:hover {\n",
              "    background-color: var(--hover-bg-color);\n",
              "    box-shadow: 0 1px 2px rgba(60, 64, 67, 0.3), 0 1px 3px 1px rgba(60, 64, 67, 0.15);\n",
              "    fill: var(--button-hover-fill-color);\n",
              "  }\n",
              "\n",
              "  .colab-df-quickchart-complete:disabled,\n",
              "  .colab-df-quickchart-complete:disabled:hover {\n",
              "    background-color: var(--disabled-bg-color);\n",
              "    fill: var(--disabled-fill-color);\n",
              "    box-shadow: none;\n",
              "  }\n",
              "\n",
              "  .colab-df-spinner {\n",
              "    border: 2px solid var(--fill-color);\n",
              "    border-color: transparent;\n",
              "    border-bottom-color: var(--fill-color);\n",
              "    animation:\n",
              "      spin 1s steps(1) infinite;\n",
              "  }\n",
              "\n",
              "  @keyframes spin {\n",
              "    0% {\n",
              "      border-color: transparent;\n",
              "      border-bottom-color: var(--fill-color);\n",
              "      border-left-color: var(--fill-color);\n",
              "    }\n",
              "    20% {\n",
              "      border-color: transparent;\n",
              "      border-left-color: var(--fill-color);\n",
              "      border-top-color: var(--fill-color);\n",
              "    }\n",
              "    30% {\n",
              "      border-color: transparent;\n",
              "      border-left-color: var(--fill-color);\n",
              "      border-top-color: var(--fill-color);\n",
              "      border-right-color: var(--fill-color);\n",
              "    }\n",
              "    40% {\n",
              "      border-color: transparent;\n",
              "      border-right-color: var(--fill-color);\n",
              "      border-top-color: var(--fill-color);\n",
              "    }\n",
              "    60% {\n",
              "      border-color: transparent;\n",
              "      border-right-color: var(--fill-color);\n",
              "    }\n",
              "    80% {\n",
              "      border-color: transparent;\n",
              "      border-right-color: var(--fill-color);\n",
              "      border-bottom-color: var(--fill-color);\n",
              "    }\n",
              "    90% {\n",
              "      border-color: transparent;\n",
              "      border-bottom-color: var(--fill-color);\n",
              "    }\n",
              "  }\n",
              "</style>\n",
              "\n",
              "  <script>\n",
              "    async function quickchart(key) {\n",
              "      const quickchartButtonEl =\n",
              "        document.querySelector('#' + key + ' button');\n",
              "      quickchartButtonEl.disabled = true;  // To prevent multiple clicks.\n",
              "      quickchartButtonEl.classList.add('colab-df-spinner');\n",
              "      try {\n",
              "        const charts = await google.colab.kernel.invokeFunction(\n",
              "            'suggestCharts', [key], {});\n",
              "      } catch (error) {\n",
              "        console.error('Error during call to suggestCharts:', error);\n",
              "      }\n",
              "      quickchartButtonEl.classList.remove('colab-df-spinner');\n",
              "      quickchartButtonEl.classList.add('colab-df-quickchart-complete');\n",
              "    }\n",
              "    (() => {\n",
              "      let quickchartButtonEl =\n",
              "        document.querySelector('#df-d4f50373-8204-4cdb-9aaa-1f87a64674c0 button');\n",
              "      quickchartButtonEl.style.display =\n",
              "        google.colab.kernel.accessAllowed ? 'block' : 'none';\n",
              "    })();\n",
              "  </script>\n",
              "</div>\n",
              "    </div>\n",
              "  </div>\n"
            ],
            "application/vnd.google.colaboratory.intrinsic+json": {
              "type": "dataframe",
              "variable_name": "df",
              "repr_error": "'str' object has no attribute 'empty'"
            }
          },
          "metadata": {},
          "execution_count": 28
        }
      ]
    },
    {
      "cell_type": "markdown",
      "source": [
        "# [No Need] PrePros data"
      ],
      "metadata": {
        "id": "EBGSGET8zX0A"
      }
    },
    {
      "cell_type": "code",
      "source": [
        "#install Sastrawi\n",
        "#pip install sastrawi"
      ],
      "metadata": {
        "id": "460SKWnK1in3"
      },
      "execution_count": null,
      "outputs": []
    },
    {
      "cell_type": "code",
      "source": [
        "import re\n",
        "import nltk\n",
        "nltk.download('punkt')\n",
        "nltk.download('stopwords')\n",
        "from nltk.corpus import stopwords\n",
        "from nltk.stem import PorterStemmer\n",
        "\n",
        "stemmer=PorterStemmer()"
      ],
      "metadata": {
        "colab": {
          "base_uri": "https://localhost:8080/"
        },
        "id": "FVfATqM1wKZF",
        "outputId": "9aa4d75c-968d-467a-a69d-714e1be96977"
      },
      "execution_count": null,
      "outputs": [
        {
          "output_type": "stream",
          "name": "stderr",
          "text": [
            "[nltk_data] Downloading package punkt to /root/nltk_data...\n",
            "[nltk_data]   Unzipping tokenizers/punkt.zip.\n",
            "[nltk_data] Downloading package stopwords to /root/nltk_data...\n",
            "[nltk_data]   Unzipping corpora/stopwords.zip.\n"
          ]
        }
      ]
    },
    {
      "cell_type": "markdown",
      "source": [
        "digunakan untuk melakukan preprocessing pada teks. Preprocessing teks adalah tahap pembersihan dan pengolahan data teks sebelum dilakukan analisis atau pemrosesan lebih lanjut.\n",
        "\n",
        "Pada script di atas, dimana ada import module re dan nltk. Module re (regular expression) digunakan untuk menangani ekspresi reguler, yaitu pola khusus yang dapat digunakan untuk mencocokkan karakter-karakter dalam teks. Module nltk (Natural Language Toolkit) merupakan paket perangkat lunak untuk pemrosesan bahasa alami."
      ],
      "metadata": {
        "id": "pmIBL9wT64ru"
      }
    },
    {
      "cell_type": "code",
      "source": [
        "#declare empty list to store tokenized message\n",
        "corpus=[]\n",
        "\n",
        "#iterate through the df[\"Message\"]\n",
        "for message in df[\"Message\"]:\n",
        "\n",
        "    #replace every special characters, numbers etc.. with whitespace of message\n",
        "    #It will help retain only letter/alphabets\n",
        "    message=re.sub(\"[^a-zA-Z]\",\" \",message)\n",
        "\n",
        "    #convert every letters to its lowercase\n",
        "    message=message.lower()\n",
        "\n",
        "    #split the word into individual word list\n",
        "    message=message.split()\n",
        "\n",
        "    #perform stemming using PorterStemmer for all non-english-stopwords\n",
        "    message=[stemmer.stem(words)\n",
        "            for words in message\n",
        "             if words not in set(stopwords.words(\"indonesian\"))\n",
        "            ]\n",
        "    #join the word lists with the whitespace\n",
        "    message=\" \".join(message)\n",
        "\n",
        "    #append the message in corpus list\n",
        "    corpus.append(message)"
      ],
      "metadata": {
        "id": "2Qy62HiQyrMX"
      },
      "execution_count": null,
      "outputs": []
    },
    {
      "cell_type": "markdown",
      "source": [
        "# Proses Embedding"
      ],
      "metadata": {
        "id": "0xU8l7pZzzrw"
      }
    },
    {
      "cell_type": "markdown",
      "source": [
        "if in ML use weighting with TF-IDF in DL you can use the embedding process with One Hot.\n",
        "\n",
        "One-Hot Encoding and TF-IDF (Term Frequency-Inverse Document Frequency) are two common methods used in natural language processing. One-Hot Encoding converts each word in a document into a binary vector with a size corresponding to the total vocabulary in the corpus, where each word is represented by a vector that has a value of 1 at the index corresponding to the word and a value of 0 at the other indexes. Meanwhile, TF-IDF assigns a numerical weight to each word based on how often it appears in a document and how common it is across the corpus. TF-IDF values are higher for words that appear frequently in a document but rarely in other documents, highlighting the importance of the word in the context of that document. So, the difference lies in the vector representation; One-Hot Encoding provides a simple binary representation, whereas TF-IDF provides weights that reflect the relative significance of the word in the document and the corpus as a whole."
      ],
      "metadata": {
        "id": "mPvSEcaGHTZH"
      }
    },
    {
      "cell_type": "markdown",
      "source": [
        "![image.png](data:image/png;base64,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)"
      ],
      "metadata": {
        "id": "u2OLehM_Hf4m"
      }
    },
    {
      "cell_type": "code",
      "source": [
        "from tensorflow.keras.preprocessing.text import one_hot\n",
        "vocab_size=10000\n",
        "\n",
        "oneHot_doc=[one_hot(words,n=vocab_size)\n",
        "           for words in corpus\n",
        "           ]"
      ],
      "metadata": {
        "id": "WuFZRaCFzDzA"
      },
      "execution_count": null,
      "outputs": []
    },
    {
      "cell_type": "code",
      "source": [
        "df[\"Message Length\"].describe()"
      ],
      "metadata": {
        "colab": {
          "base_uri": "https://localhost:8080/"
        },
        "id": "kTCmFgeZzIXE",
        "outputId": "8aac9968-441d-46df-fff1-c452553541d1"
      },
      "execution_count": null,
      "outputs": [
        {
          "output_type": "execute_result",
          "data": {
            "text/plain": [
              "count    5624.000000\n",
              "mean       86.718350\n",
              "std        48.111443\n",
              "min         3.000000\n",
              "25%        48.000000\n",
              "50%        75.000000\n",
              "75%       121.000000\n",
              "max       257.000000\n",
              "Name: Message Length, dtype: float64"
            ]
          },
          "metadata": {},
          "execution_count": 32
        }
      ]
    },
    {
      "cell_type": "code",
      "source": [
        "#Visualize the Message length using kdeplot.\n",
        "\n",
        "fig=plt.figure(figsize=(12,8))\n",
        "sns.kdeplot(\n",
        "    x=df[\"Message Length\"],\n",
        "    hue=df[\"Category\"],\n",
        "    #palette={\"black-campaign\": \"darkred\", \"nonblack-campaign\": \"green\"}  # Ganti warna sesuai keinginan\n",
        ")\n",
        "plt.title(\"black-campaign & nonblack-campaign messege length comparision\")\n",
        "plt.show()"
      ],
      "metadata": {
        "colab": {
          "base_uri": "https://localhost:8080/",
          "height": 657
        },
        "id": "huODwYP4zKJb",
        "outputId": "fd8b10da-7082-46b3-c704-2081ba353f26"
      },
      "execution_count": null,
      "outputs": [
        {
          "output_type": "display_data",
          "data": {
            "text/plain": [
              "<Figure size 1200x800 with 1 Axes>"
            ],
            "image/png": "[encoded data removed]"
          },
          "metadata": {}
        }
      ]
    },
    {
      "cell_type": "code",
      "source": [
        "#use pad_sequences from hard to do the word insertion.\n",
        "#This will make each list the same length (sentence length) which we can later insert into the model.\n",
        "\n",
        "from tensorflow.keras.preprocessing.sequence import pad_sequences\n",
        "sentence_len=200\n",
        "embedded_doc=pad_sequences(\n",
        "    oneHot_doc,\n",
        "    maxlen=sentence_len,\n",
        "    padding=\"pre\"\n",
        ")"
      ],
      "metadata": {
        "id": "CpncbNe9zMhj"
      },
      "execution_count": null,
      "outputs": []
    },
    {
      "cell_type": "markdown",
      "source": [
        "This function uses TensorFlow's pad_sequences to add padding to each document in *oneHot_doc* to make each document length *sentence_len*. Padding is done at the beginning of the document *(padding=“pre”)*, meaning that zeros will be added at the beginning of each document if the document length is less than *sentence_len*. This is useful because machine learning models require consistent length input."
      ],
      "metadata": {
        "id": "3H7PGAH3NLzh"
      }
    },
    {
      "cell_type": "code",
      "source": [
        "extract_features=pd.DataFrame(\n",
        "    data=embedded_doc\n",
        ")\n",
        "target=df[\"Label\"]"
      ],
      "metadata": {
        "id": "gu4lpCOQzOkL"
      },
      "execution_count": null,
      "outputs": []
    },
    {
      "cell_type": "markdown",
      "source": [
        "This function creates a new DataFrame (extract_features) using the padding result data *(embedded_doc)*. This DataFrame will most likely be used as input features for the model."
      ],
      "metadata": {
        "id": "TSrSrBrmNWxo"
      }
    },
    {
      "cell_type": "code",
      "source": [
        "df_final=pd.concat([extract_features,target],axis=1)"
      ],
      "metadata": {
        "id": "8uFkfGrBzRMa"
      },
      "execution_count": null,
      "outputs": []
    },
    {
      "cell_type": "markdown",
      "source": [
        "This function merges the processed features with the target column *(“Label”)* of the original DataFrame (df). The *axis=1* indicates that the merging is done by column, not row. The result is a DataFrame *df_final* that is ready to be used for training and testing machine learning models."
      ],
      "metadata": {
        "id": "EkuGzqRuN1Hn"
      }
    },
    {
      "cell_type": "code",
      "source": [
        "df_final.head()"
      ],
      "metadata": {
        "colab": {
          "base_uri": "https://localhost:8080/",
          "height": 236
        },
        "id": "8pP5wqFmzTLb",
        "outputId": "f07518e2-5cb9-4b1d-972b-67c378031650"
      },
      "execution_count": null,
      "outputs": [
        {
          "output_type": "execute_result",
          "data": {
            "text/plain": [
              "   0  1  2  3  4  5  6  7  8  9  ...   191   192   193   194   195   196  \\\n",
              "0  0  0  0  0  0  0  0  0  0  0  ...  9755  6688  4038  9517  9825  4849   \n",
              "1  0  0  0  0  0  0  0  0  0  0  ...   206  6973  6911  2951  4412  5679   \n",
              "2  0  0  0  0  0  0  0  0  0  0  ...   721   246   844  4553  2212  2876   \n",
              "3  0  0  0  0  0  0  0  0  0  0  ...     0     0     0  4766  9426  7617   \n",
              "4  0  0  0  0  0  0  0  0  0  0  ...  5338  9264  1291   962  5778  2926   \n",
              "\n",
              "    197   198   199  Label  \n",
              "0  4412  6216  7284      0  \n",
              "1  7775  3957  7775      0  \n",
              "2  8273  1507  7284      0  \n",
              "3  7274  5711  2152      1  \n",
              "4  4412  7775  6695      1  \n",
              "\n",
              "[5 rows x 201 columns]"
            ],
            "text/html": [
              "\n",
              "  <div id=\"df-92bddce9-c067-46bc-9070-088f56666ac5\" class=\"colab-df-container\">\n",
              "    <div>\n",
              "<style scoped>\n",
              "    .dataframe tbody tr th:only-of-type {\n",
              "        vertical-align: middle;\n",
              "    }\n",
              "\n",
              "    .dataframe tbody tr th {\n",
              "        vertical-align: top;\n",
              "    }\n",
              "\n",
              "    .dataframe thead th {\n",
              "        text-align: right;\n",
              "    }\n",
              "</style>\n",
              "<table border=\"1\" class=\"dataframe\">\n",
              "  <thead>\n",
              "    <tr style=\"text-align: right;\">\n",
              "      <th></th>\n",
              "      <th>0</th>\n",
              "      <th>1</th>\n",
              "      <th>2</th>\n",
              "      <th>3</th>\n",
              "      <th>4</th>\n",
              "      <th>5</th>\n",
              "      <th>6</th>\n",
              "      <th>7</th>\n",
              "      <th>8</th>\n",
              "      <th>9</th>\n",
              "      <th>...</th>\n",
              "      <th>191</th>\n",
              "      <th>192</th>\n",
              "      <th>193</th>\n",
              "      <th>194</th>\n",
              "      <th>195</th>\n",
              "      <th>196</th>\n",
              "      <th>197</th>\n",
              "      <th>198</th>\n",
              "      <th>199</th>\n",
              "      <th>Label</th>\n",
              "    </tr>\n",
              "  </thead>\n",
              "  <tbody>\n",
              "    <tr>\n",
              "      <th>0</th>\n",
              "      <td>0</td>\n",
              "      <td>0</td>\n",
              "      <td>0</td>\n",
              "      <td>0</td>\n",
              "      <td>0</td>\n",
              "      <td>0</td>\n",
              "      <td>0</td>\n",
              "      <td>0</td>\n",
              "      <td>0</td>\n",
              "      <td>0</td>\n",
              "      <td>...</td>\n",
              "      <td>9755</td>\n",
              "      <td>6688</td>\n",
              "      <td>4038</td>\n",
              "      <td>9517</td>\n",
              "      <td>9825</td>\n",
              "      <td>4849</td>\n",
              "      <td>4412</td>\n",
              "      <td>6216</td>\n",
              "      <td>7284</td>\n",
              "      <td>0</td>\n",
              "    </tr>\n",
              "    <tr>\n",
              "      <th>1</th>\n",
              "      <td>0</td>\n",
              "      <td>0</td>\n",
              "      <td>0</td>\n",
              "      <td>0</td>\n",
              "      <td>0</td>\n",
              "      <td>0</td>\n",
              "      <td>0</td>\n",
              "      <td>0</td>\n",
              "      <td>0</td>\n",
              "      <td>0</td>\n",
              "      <td>...</td>\n",
              "      <td>206</td>\n",
              "      <td>6973</td>\n",
              "      <td>6911</td>\n",
              "      <td>2951</td>\n",
              "      <td>4412</td>\n",
              "      <td>5679</td>\n",
              "      <td>7775</td>\n",
              "      <td>3957</td>\n",
              "      <td>7775</td>\n",
              "      <td>0</td>\n",
              "    </tr>\n",
              "    <tr>\n",
              "      <th>2</th>\n",
              "      <td>0</td>\n",
              "      <td>0</td>\n",
              "      <td>0</td>\n",
              "      <td>0</td>\n",
              "      <td>0</td>\n",
              "      <td>0</td>\n",
              "      <td>0</td>\n",
              "      <td>0</td>\n",
              "      <td>0</td>\n",
              "      <td>0</td>\n",
              "      <td>...</td>\n",
              "      <td>721</td>\n",
              "      <td>246</td>\n",
              "      <td>844</td>\n",
              "      <td>4553</td>\n",
              "      <td>2212</td>\n",
              "      <td>2876</td>\n",
              "      <td>8273</td>\n",
              "      <td>1507</td>\n",
              "      <td>7284</td>\n",
              "      <td>0</td>\n",
              "    </tr>\n",
              "    <tr>\n",
              "      <th>3</th>\n",
              "      <td>0</td>\n",
              "      <td>0</td>\n",
              "      <td>0</td>\n",
              "      <td>0</td>\n",
              "      <td>0</td>\n",
              "      <td>0</td>\n",
              "      <td>0</td>\n",
              "      <td>0</td>\n",
              "      <td>0</td>\n",
              "      <td>0</td>\n",
              "      <td>...</td>\n",
              "      <td>0</td>\n",
              "      <td>0</td>\n",
              "      <td>0</td>\n",
              "      <td>4766</td>\n",
              "      <td>9426</td>\n",
              "      <td>7617</td>\n",
              "      <td>7274</td>\n",
              "      <td>5711</td>\n",
              "      <td>2152</td>\n",
              "      <td>1</td>\n",
              "    </tr>\n",
              "    <tr>\n",
              "      <th>4</th>\n",
              "      <td>0</td>\n",
              "      <td>0</td>\n",
              "      <td>0</td>\n",
              "      <td>0</td>\n",
              "      <td>0</td>\n",
              "      <td>0</td>\n",
              "      <td>0</td>\n",
              "      <td>0</td>\n",
              "      <td>0</td>\n",
              "      <td>0</td>\n",
              "      <td>...</td>\n",
              "      <td>5338</td>\n",
              "      <td>9264</td>\n",
              "      <td>1291</td>\n",
              "      <td>962</td>\n",
              "      <td>5778</td>\n",
              "      <td>2926</td>\n",
              "      <td>4412</td>\n",
              "      <td>7775</td>\n",
              "      <td>6695</td>\n",
              "      <td>1</td>\n",
              "    </tr>\n",
              "  </tbody>\n",
              "</table>\n",
              "<p>5 rows × 201 columns</p>\n",
              "</div>\n",
              "    <div class=\"colab-df-buttons\">\n",
              "\n",
              "  <div class=\"colab-df-container\">\n",
              "    <button class=\"colab-df-convert\" onclick=\"convertToInteractive('df-92bddce9-c067-46bc-9070-088f56666ac5')\"\n",
              "            title=\"Convert this dataframe to an interactive table.\"\n",
              "            style=\"display:none;\">\n",
              "\n",
              "  <svg xmlns=\"http://www.w3.org/2000/svg\" height=\"24px\" viewBox=\"0 -960 960 960\">\n",
              "    <path d=\"M120-120v-720h720v720H120Zm60-500h600v-160H180v160Zm220 220h160v-160H400v160Zm0 220h160v-160H400v160ZM180-400h160v-160H180v160Zm440 0h160v-160H620v160ZM180-180h160v-160H180v160Zm440 0h160v-160H620v160Z\"/>\n",
              "  </svg>\n",
              "    </button>\n",
              "\n",
              "  <style>\n",
              "    .colab-df-container {\n",
              "      display:flex;\n",
              "      gap: 12px;\n",
              "    }\n",
              "\n",
              "    .colab-df-convert {\n",
              "      background-color: #E8F0FE;\n",
              "      border: none;\n",
              "      border-radius: 50%;\n",
              "      cursor: pointer;\n",
              "      display: none;\n",
              "      fill: #1967D2;\n",
              "      height: 32px;\n",
              "      padding: 0 0 0 0;\n",
              "      width: 32px;\n",
              "    }\n",
              "\n",
              "    .colab-df-convert:hover {\n",
              "      background-color: #E2EBFA;\n",
              "      box-shadow: 0px 1px 2px rgba(60, 64, 67, 0.3), 0px 1px 3px 1px rgba(60, 64, 67, 0.15);\n",
              "      fill: #174EA6;\n",
              "    }\n",
              "\n",
              "    .colab-df-buttons div {\n",
              "      margin-bottom: 4px;\n",
              "    }\n",
              "\n",
              "    [theme=dark] .colab-df-convert {\n",
              "      background-color: #3B4455;\n",
              "      fill: #D2E3FC;\n",
              "    }\n",
              "\n",
              "    [theme=dark] .colab-df-convert:hover {\n",
              "      background-color: #434B5C;\n",
              "      box-shadow: 0px 1px 3px 1px rgba(0, 0, 0, 0.15);\n",
              "      filter: drop-shadow(0px 1px 2px rgba(0, 0, 0, 0.3));\n",
              "      fill: #FFFFFF;\n",
              "    }\n",
              "  </style>\n",
              "\n",
              "    <script>\n",
              "      const buttonEl =\n",
              "        document.querySelector('#df-92bddce9-c067-46bc-9070-088f56666ac5 button.colab-df-convert');\n",
              "      buttonEl.style.display =\n",
              "        google.colab.kernel.accessAllowed ? 'block' : 'none';\n",
              "\n",
              "      async function convertToInteractive(key) {\n",
              "        const element = document.querySelector('#df-92bddce9-c067-46bc-9070-088f56666ac5');\n",
              "        const dataTable =\n",
              "          await google.colab.kernel.invokeFunction('convertToInteractive',\n",
              "                                                    [key], {});\n",
              "        if (!dataTable) return;\n",
              "\n",
              "        const docLinkHtml = 'Like what you see? Visit the ' +\n",
              "          '<a target=\"_blank\" href=https://colab.research.google.com/notebooks/data_table.ipynb>data table notebook</a>'\n",
              "          + ' to learn more about interactive tables.';\n",
              "        element.innerHTML = '';\n",
              "        dataTable['output_type'] = 'display_data';\n",
              "        await google.colab.output.renderOutput(dataTable, element);\n",
              "        const docLink = document.createElement('div');\n",
              "        docLink.innerHTML = docLinkHtml;\n",
              "        element.appendChild(docLink);\n",
              "      }\n",
              "    </script>\n",
              "  </div>\n",
              "\n",
              "\n",
              "<div id=\"df-fdaa2417-3321-423f-8780-4a0bd427bed5\">\n",
              "  <button class=\"colab-df-quickchart\" onclick=\"quickchart('df-fdaa2417-3321-423f-8780-4a0bd427bed5')\"\n",
              "            title=\"Suggest charts\"\n",
              "            style=\"display:none;\">\n",
              "\n",
              "<svg xmlns=\"http://www.w3.org/2000/svg\" height=\"24px\"viewBox=\"0 0 24 24\"\n",
              "     width=\"24px\">\n",
              "    <g>\n",
              "        <path d=\"M19 3H5c-1.1 0-2 .9-2 2v14c0 1.1.9 2 2 2h14c1.1 0 2-.9 2-2V5c0-1.1-.9-2-2-2zM9 17H7v-7h2v7zm4 0h-2V7h2v10zm4 0h-2v-4h2v4z\"/>\n",
              "    </g>\n",
              "</svg>\n",
              "  </button>\n",
              "\n",
              "<style>\n",
              "  .colab-df-quickchart {\n",
              "      --bg-color: #E8F0FE;\n",
              "      --fill-color: #1967D2;\n",
              "      --hover-bg-color: #E2EBFA;\n",
              "      --hover-fill-color: #174EA6;\n",
              "      --disabled-fill-color: #AAA;\n",
              "      --disabled-bg-color: #DDD;\n",
              "  }\n",
              "\n",
              "  [theme=dark] .colab-df-quickchart {\n",
              "      --bg-color: #3B4455;\n",
              "      --fill-color: #D2E3FC;\n",
              "      --hover-bg-color: #434B5C;\n",
              "      --hover-fill-color: #FFFFFF;\n",
              "      --disabled-bg-color: #3B4455;\n",
              "      --disabled-fill-color: #666;\n",
              "  }\n",
              "\n",
              "  .colab-df-quickchart {\n",
              "    background-color: var(--bg-color);\n",
              "    border: none;\n",
              "    border-radius: 50%;\n",
              "    cursor: pointer;\n",
              "    display: none;\n",
              "    fill: var(--fill-color);\n",
              "    height: 32px;\n",
              "    padding: 0;\n",
              "    width: 32px;\n",
              "  }\n",
              "\n",
              "  .colab-df-quickchart:hover {\n",
              "    background-color: var(--hover-bg-color);\n",
              "    box-shadow: 0 1px 2px rgba(60, 64, 67, 0.3), 0 1px 3px 1px rgba(60, 64, 67, 0.15);\n",
              "    fill: var(--button-hover-fill-color);\n",
              "  }\n",
              "\n",
              "  .colab-df-quickchart-complete:disabled,\n",
              "  .colab-df-quickchart-complete:disabled:hover {\n",
              "    background-color: var(--disabled-bg-color);\n",
              "    fill: var(--disabled-fill-color);\n",
              "    box-shadow: none;\n",
              "  }\n",
              "\n",
              "  .colab-df-spinner {\n",
              "    border: 2px solid var(--fill-color);\n",
              "    border-color: transparent;\n",
              "    border-bottom-color: var(--fill-color);\n",
              "    animation:\n",
              "      spin 1s steps(1) infinite;\n",
              "  }\n",
              "\n",
              "  @keyframes spin {\n",
              "    0% {\n",
              "      border-color: transparent;\n",
              "      border-bottom-color: var(--fill-color);\n",
              "      border-left-color: var(--fill-color);\n",
              "    }\n",
              "    20% {\n",
              "      border-color: transparent;\n",
              "      border-left-color: var(--fill-color);\n",
              "      border-top-color: var(--fill-color);\n",
              "    }\n",
              "    30% {\n",
              "      border-color: transparent;\n",
              "      border-left-color: var(--fill-color);\n",
              "      border-top-color: var(--fill-color);\n",
              "      border-right-color: var(--fill-color);\n",
              "    }\n",
              "    40% {\n",
              "      border-color: transparent;\n",
              "      border-right-color: var(--fill-color);\n",
              "      border-top-color: var(--fill-color);\n",
              "    }\n",
              "    60% {\n",
              "      border-color: transparent;\n",
              "      border-right-color: var(--fill-color);\n",
              "    }\n",
              "    80% {\n",
              "      border-color: transparent;\n",
              "      border-right-color: var(--fill-color);\n",
              "      border-bottom-color: var(--fill-color);\n",
              "    }\n",
              "    90% {\n",
              "      border-color: transparent;\n",
              "      border-bottom-color: var(--fill-color);\n",
              "    }\n",
              "  }\n",
              "</style>\n",
              "\n",
              "  <script>\n",
              "    async function quickchart(key) {\n",
              "      const quickchartButtonEl =\n",
              "        document.querySelector('#' + key + ' button');\n",
              "      quickchartButtonEl.disabled = true;  // To prevent multiple clicks.\n",
              "      quickchartButtonEl.classList.add('colab-df-spinner');\n",
              "      try {\n",
              "        const charts = await google.colab.kernel.invokeFunction(\n",
              "            'suggestCharts', [key], {});\n",
              "      } catch (error) {\n",
              "        console.error('Error during call to suggestCharts:', error);\n",
              "      }\n",
              "      quickchartButtonEl.classList.remove('colab-df-spinner');\n",
              "      quickchartButtonEl.classList.add('colab-df-quickchart-complete');\n",
              "    }\n",
              "    (() => {\n",
              "      let quickchartButtonEl =\n",
              "        document.querySelector('#df-fdaa2417-3321-423f-8780-4a0bd427bed5 button');\n",
              "      quickchartButtonEl.style.display =\n",
              "        google.colab.kernel.accessAllowed ? 'block' : 'none';\n",
              "    })();\n",
              "  </script>\n",
              "</div>\n",
              "    </div>\n",
              "  </div>\n"
            ],
            "application/vnd.google.colaboratory.intrinsic+json": {
              "type": "dataframe",
              "variable_name": "df_final"
            }
          },
          "metadata": {},
          "execution_count": 37
        }
      ]
    },
    {
      "cell_type": "markdown",
      "source": [
        "One-Hot Encoding converts each word in a document into a binary vector with a size corresponding to the total vocabulary in the corpus, where each word is represented by a vector that has a value of 1 at the index corresponding to the word and a value of 0 at the other indices."
      ],
      "metadata": {
        "id": "_kZrFDp5Kq4o"
      }
    },
    {
      "cell_type": "code",
      "source": [
        "X=df_final.drop(\"Label\",axis=1)\n",
        "y=df_final[\"Label\"]"
      ],
      "metadata": {
        "id": "6qEAKbQMzUq7"
      },
      "execution_count": null,
      "outputs": []
    },
    {
      "cell_type": "code",
      "source": [
        "df_final"
      ],
      "metadata": {
        "colab": {
          "base_uri": "https://localhost:8080/",
          "height": 424
        },
        "id": "EVAFGHhs1H8R",
        "outputId": "6bf43d4d-27ae-4d62-f999-5bba84b7e984"
      },
      "execution_count": null,
      "outputs": [
        {
          "output_type": "execute_result",
          "data": {
            "text/plain": [
              "      0  1  2  3  4  5  6  7  8  9  ...   191   192   193   194   195   196  \\\n",
              "0     0  0  0  0  0  0  0  0  0  0  ...  9755  6688  4038  9517  9825  4849   \n",
              "1     0  0  0  0  0  0  0  0  0  0  ...   206  6973  6911  2951  4412  5679   \n",
              "2     0  0  0  0  0  0  0  0  0  0  ...   721   246   844  4553  2212  2876   \n",
              "3     0  0  0  0  0  0  0  0  0  0  ...     0     0     0  4766  9426  7617   \n",
              "4     0  0  0  0  0  0  0  0  0  0  ...  5338  9264  1291   962  5778  2926   \n",
              "...  .. .. .. .. .. .. .. .. .. ..  ...   ...   ...   ...   ...   ...   ...   \n",
              "5619  0  0  0  0  0  0  0  0  0  0  ...     0     0     0     0     0  9517   \n",
              "5620  0  0  0  0  0  0  0  0  0  0  ...     0     0     0     0     0     0   \n",
              "5621  0  0  0  0  0  0  0  0  0  0  ...     0     0  2206   206  9844  5566   \n",
              "5622  0  0  0  0  0  0  0  0  0  0  ...  3826  1260  9702  2552  6911  9795   \n",
              "5623  0  0  0  0  0  0  0  0  0  0  ...     0  9198  5458  3957  2612  1560   \n",
              "\n",
              "       197   198   199  Label  \n",
              "0     4412  6216  7284      0  \n",
              "1     7775  3957  7775      0  \n",
              "2     8273  1507  7284      0  \n",
              "3     7274  5711  2152      1  \n",
              "4     4412  7775  6695      1  \n",
              "...    ...   ...   ...    ...  \n",
              "5619  6364  9517  7284      0  \n",
              "5620  2873  6911  7846      0  \n",
              "5621  1771  2882  1346      1  \n",
              "5622  4412  9794  7284      0  \n",
              "5623  4412  4250  3427      1  \n",
              "\n",
              "[5624 rows x 201 columns]"
            ],
            "text/html": [
              "\n",
              "  <div id=\"df-035a0851-bafd-4d53-b154-93a429bfd044\" class=\"colab-df-container\">\n",
              "    <div>\n",
              "<style scoped>\n",
              "    .dataframe tbody tr th:only-of-type {\n",
              "        vertical-align: middle;\n",
              "    }\n",
              "\n",
              "    .dataframe tbody tr th {\n",
              "        vertical-align: top;\n",
              "    }\n",
              "\n",
              "    .dataframe thead th {\n",
              "        text-align: right;\n",
              "    }\n",
              "</style>\n",
              "<table border=\"1\" class=\"dataframe\">\n",
              "  <thead>\n",
              "    <tr style=\"text-align: right;\">\n",
              "      <th></th>\n",
              "      <th>0</th>\n",
              "      <th>1</th>\n",
              "      <th>2</th>\n",
              "      <th>3</th>\n",
              "      <th>4</th>\n",
              "      <th>5</th>\n",
              "      <th>6</th>\n",
              "      <th>7</th>\n",
              "      <th>8</th>\n",
              "      <th>9</th>\n",
              "      <th>...</th>\n",
              "      <th>191</th>\n",
              "      <th>192</th>\n",
              "      <th>193</th>\n",
              "      <th>194</th>\n",
              "      <th>195</th>\n",
              "      <th>196</th>\n",
              "      <th>197</th>\n",
              "      <th>198</th>\n",
              "      <th>199</th>\n",
              "      <th>Label</th>\n",
              "    </tr>\n",
              "  </thead>\n",
              "  <tbody>\n",
              "    <tr>\n",
              "      <th>0</th>\n",
              "      <td>0</td>\n",
              "      <td>0</td>\n",
              "      <td>0</td>\n",
              "      <td>0</td>\n",
              "      <td>0</td>\n",
              "      <td>0</td>\n",
              "      <td>0</td>\n",
              "      <td>0</td>\n",
              "      <td>0</td>\n",
              "      <td>0</td>\n",
              "      <td>...</td>\n",
              "      <td>9755</td>\n",
              "      <td>6688</td>\n",
              "      <td>4038</td>\n",
              "      <td>9517</td>\n",
              "      <td>9825</td>\n",
              "      <td>4849</td>\n",
              "      <td>4412</td>\n",
              "      <td>6216</td>\n",
              "      <td>7284</td>\n",
              "      <td>0</td>\n",
              "    </tr>\n",
              "    <tr>\n",
              "      <th>1</th>\n",
              "      <td>0</td>\n",
              "      <td>0</td>\n",
              "      <td>0</td>\n",
              "      <td>0</td>\n",
              "      <td>0</td>\n",
              "      <td>0</td>\n",
              "      <td>0</td>\n",
              "      <td>0</td>\n",
              "      <td>0</td>\n",
              "      <td>0</td>\n",
              "      <td>...</td>\n",
              "      <td>206</td>\n",
              "      <td>6973</td>\n",
              "      <td>6911</td>\n",
              "      <td>2951</td>\n",
              "      <td>4412</td>\n",
              "      <td>5679</td>\n",
              "      <td>7775</td>\n",
              "      <td>3957</td>\n",
              "      <td>7775</td>\n",
              "      <td>0</td>\n",
              "    </tr>\n",
              "    <tr>\n",
              "      <th>2</th>\n",
              "      <td>0</td>\n",
              "      <td>0</td>\n",
              "      <td>0</td>\n",
              "      <td>0</td>\n",
              "      <td>0</td>\n",
              "      <td>0</td>\n",
              "      <td>0</td>\n",
              "      <td>0</td>\n",
              "      <td>0</td>\n",
              "      <td>0</td>\n",
              "      <td>...</td>\n",
              "      <td>721</td>\n",
              "      <td>246</td>\n",
              "      <td>844</td>\n",
              "      <td>4553</td>\n",
              "      <td>2212</td>\n",
              "      <td>2876</td>\n",
              "      <td>8273</td>\n",
              "      <td>1507</td>\n",
              "      <td>7284</td>\n",
              "      <td>0</td>\n",
              "    </tr>\n",
              "    <tr>\n",
              "      <th>3</th>\n",
              "      <td>0</td>\n",
              "      <td>0</td>\n",
              "      <td>0</td>\n",
              "      <td>0</td>\n",
              "      <td>0</td>\n",
              "      <td>0</td>\n",
              "      <td>0</td>\n",
              "      <td>0</td>\n",
              "      <td>0</td>\n",
              "      <td>0</td>\n",
              "      <td>...</td>\n",
              "      <td>0</td>\n",
              "      <td>0</td>\n",
              "      <td>0</td>\n",
              "      <td>4766</td>\n",
              "      <td>9426</td>\n",
              "      <td>7617</td>\n",
              "      <td>7274</td>\n",
              "      <td>5711</td>\n",
              "      <td>2152</td>\n",
              "      <td>1</td>\n",
              "    </tr>\n",
              "    <tr>\n",
              "      <th>4</th>\n",
              "      <td>0</td>\n",
              "      <td>0</td>\n",
              "      <td>0</td>\n",
              "      <td>0</td>\n",
              "      <td>0</td>\n",
              "      <td>0</td>\n",
              "      <td>0</td>\n",
              "      <td>0</td>\n",
              "      <td>0</td>\n",
              "      <td>0</td>\n",
              "      <td>...</td>\n",
              "      <td>5338</td>\n",
              "      <td>9264</td>\n",
              "      <td>1291</td>\n",
              "      <td>962</td>\n",
              "      <td>5778</td>\n",
              "      <td>2926</td>\n",
              "      <td>4412</td>\n",
              "      <td>7775</td>\n",
              "      <td>6695</td>\n",
              "      <td>1</td>\n",
              "    </tr>\n",
              "    <tr>\n",
              "      <th>...</th>\n",
              "      <td>...</td>\n",
              "      <td>...</td>\n",
              "      <td>...</td>\n",
              "      <td>...</td>\n",
              "      <td>...</td>\n",
              "      <td>...</td>\n",
              "      <td>...</td>\n",
              "      <td>...</td>\n",
              "      <td>...</td>\n",
              "      <td>...</td>\n",
              "      <td>...</td>\n",
              "      <td>...</td>\n",
              "      <td>...</td>\n",
              "      <td>...</td>\n",
              "      <td>...</td>\n",
              "      <td>...</td>\n",
              "      <td>...</td>\n",
              "      <td>...</td>\n",
              "      <td>...</td>\n",
              "      <td>...</td>\n",
              "      <td>...</td>\n",
              "    </tr>\n",
              "    <tr>\n",
              "      <th>5619</th>\n",
              "      <td>0</td>\n",
              "      <td>0</td>\n",
              "      <td>0</td>\n",
              "      <td>0</td>\n",
              "      <td>0</td>\n",
              "      <td>0</td>\n",
              "      <td>0</td>\n",
              "      <td>0</td>\n",
              "      <td>0</td>\n",
              "      <td>0</td>\n",
              "      <td>...</td>\n",
              "      <td>0</td>\n",
              "      <td>0</td>\n",
              "      <td>0</td>\n",
              "      <td>0</td>\n",
              "      <td>0</td>\n",
              "      <td>9517</td>\n",
              "      <td>6364</td>\n",
              "      <td>9517</td>\n",
              "      <td>7284</td>\n",
              "      <td>0</td>\n",
              "    </tr>\n",
              "    <tr>\n",
              "      <th>5620</th>\n",
              "      <td>0</td>\n",
              "      <td>0</td>\n",
              "      <td>0</td>\n",
              "      <td>0</td>\n",
              "      <td>0</td>\n",
              "      <td>0</td>\n",
              "      <td>0</td>\n",
              "      <td>0</td>\n",
              "      <td>0</td>\n",
              "      <td>0</td>\n",
              "      <td>...</td>\n",
              "      <td>0</td>\n",
              "      <td>0</td>\n",
              "      <td>0</td>\n",
              "      <td>0</td>\n",
              "      <td>0</td>\n",
              "      <td>0</td>\n",
              "      <td>2873</td>\n",
              "      <td>6911</td>\n",
              "      <td>7846</td>\n",
              "      <td>0</td>\n",
              "    </tr>\n",
              "    <tr>\n",
              "      <th>5621</th>\n",
              "      <td>0</td>\n",
              "      <td>0</td>\n",
              "      <td>0</td>\n",
              "      <td>0</td>\n",
              "      <td>0</td>\n",
              "      <td>0</td>\n",
              "      <td>0</td>\n",
              "      <td>0</td>\n",
              "      <td>0</td>\n",
              "      <td>0</td>\n",
              "      <td>...</td>\n",
              "      <td>0</td>\n",
              "      <td>0</td>\n",
              "      <td>2206</td>\n",
              "      <td>206</td>\n",
              "      <td>9844</td>\n",
              "      <td>5566</td>\n",
              "      <td>1771</td>\n",
              "      <td>2882</td>\n",
              "      <td>1346</td>\n",
              "      <td>1</td>\n",
              "    </tr>\n",
              "    <tr>\n",
              "      <th>5622</th>\n",
              "      <td>0</td>\n",
              "      <td>0</td>\n",
              "      <td>0</td>\n",
              "      <td>0</td>\n",
              "      <td>0</td>\n",
              "      <td>0</td>\n",
              "      <td>0</td>\n",
              "      <td>0</td>\n",
              "      <td>0</td>\n",
              "      <td>0</td>\n",
              "      <td>...</td>\n",
              "      <td>3826</td>\n",
              "      <td>1260</td>\n",
              "      <td>9702</td>\n",
              "      <td>2552</td>\n",
              "      <td>6911</td>\n",
              "      <td>9795</td>\n",
              "      <td>4412</td>\n",
              "      <td>9794</td>\n",
              "      <td>7284</td>\n",
              "      <td>0</td>\n",
              "    </tr>\n",
              "    <tr>\n",
              "      <th>5623</th>\n",
              "      <td>0</td>\n",
              "      <td>0</td>\n",
              "      <td>0</td>\n",
              "      <td>0</td>\n",
              "      <td>0</td>\n",
              "      <td>0</td>\n",
              "      <td>0</td>\n",
              "      <td>0</td>\n",
              "      <td>0</td>\n",
              "      <td>0</td>\n",
              "      <td>...</td>\n",
              "      <td>0</td>\n",
              "      <td>9198</td>\n",
              "      <td>5458</td>\n",
              "      <td>3957</td>\n",
              "      <td>2612</td>\n",
              "      <td>1560</td>\n",
              "      <td>4412</td>\n",
              "      <td>4250</td>\n",
              "      <td>3427</td>\n",
              "      <td>1</td>\n",
              "    </tr>\n",
              "  </tbody>\n",
              "</table>\n",
              "<p>5624 rows × 201 columns</p>\n",
              "</div>\n",
              "    <div class=\"colab-df-buttons\">\n",
              "\n",
              "  <div class=\"colab-df-container\">\n",
              "    <button class=\"colab-df-convert\" onclick=\"convertToInteractive('df-035a0851-bafd-4d53-b154-93a429bfd044')\"\n",
              "            title=\"Convert this dataframe to an interactive table.\"\n",
              "            style=\"display:none;\">\n",
              "\n",
              "  <svg xmlns=\"http://www.w3.org/2000/svg\" height=\"24px\" viewBox=\"0 -960 960 960\">\n",
              "    <path d=\"M120-120v-720h720v720H120Zm60-500h600v-160H180v160Zm220 220h160v-160H400v160Zm0 220h160v-160H400v160ZM180-400h160v-160H180v160Zm440 0h160v-160H620v160ZM180-180h160v-160H180v160Zm440 0h160v-160H620v160Z\"/>\n",
              "  </svg>\n",
              "    </button>\n",
              "\n",
              "  <style>\n",
              "    .colab-df-container {\n",
              "      display:flex;\n",
              "      gap: 12px;\n",
              "    }\n",
              "\n",
              "    .colab-df-convert {\n",
              "      background-color: #E8F0FE;\n",
              "      border: none;\n",
              "      border-radius: 50%;\n",
              "      cursor: pointer;\n",
              "      display: none;\n",
              "      fill: #1967D2;\n",
              "      height: 32px;\n",
              "      padding: 0 0 0 0;\n",
              "      width: 32px;\n",
              "    }\n",
              "\n",
              "    .colab-df-convert:hover {\n",
              "      background-color: #E2EBFA;\n",
              "      box-shadow: 0px 1px 2px rgba(60, 64, 67, 0.3), 0px 1px 3px 1px rgba(60, 64, 67, 0.15);\n",
              "      fill: #174EA6;\n",
              "    }\n",
              "\n",
              "    .colab-df-buttons div {\n",
              "      margin-bottom: 4px;\n",
              "    }\n",
              "\n",
              "    [theme=dark] .colab-df-convert {\n",
              "      background-color: #3B4455;\n",
              "      fill: #D2E3FC;\n",
              "    }\n",
              "\n",
              "    [theme=dark] .colab-df-convert:hover {\n",
              "      background-color: #434B5C;\n",
              "      box-shadow: 0px 1px 3px 1px rgba(0, 0, 0, 0.15);\n",
              "      filter: drop-shadow(0px 1px 2px rgba(0, 0, 0, 0.3));\n",
              "      fill: #FFFFFF;\n",
              "    }\n",
              "  </style>\n",
              "\n",
              "    <script>\n",
              "      const buttonEl =\n",
              "        document.querySelector('#df-035a0851-bafd-4d53-b154-93a429bfd044 button.colab-df-convert');\n",
              "      buttonEl.style.display =\n",
              "        google.colab.kernel.accessAllowed ? 'block' : 'none';\n",
              "\n",
              "      async function convertToInteractive(key) {\n",
              "        const element = document.querySelector('#df-035a0851-bafd-4d53-b154-93a429bfd044');\n",
              "        const dataTable =\n",
              "          await google.colab.kernel.invokeFunction('convertToInteractive',\n",
              "                                                    [key], {});\n",
              "        if (!dataTable) return;\n",
              "\n",
              "        const docLinkHtml = 'Like what you see? Visit the ' +\n",
              "          '<a target=\"_blank\" href=https://colab.research.google.com/notebooks/data_table.ipynb>data table notebook</a>'\n",
              "          + ' to learn more about interactive tables.';\n",
              "        element.innerHTML = '';\n",
              "        dataTable['output_type'] = 'display_data';\n",
              "        await google.colab.output.renderOutput(dataTable, element);\n",
              "        const docLink = document.createElement('div');\n",
              "        docLink.innerHTML = docLinkHtml;\n",
              "        element.appendChild(docLink);\n",
              "      }\n",
              "    </script>\n",
              "  </div>\n",
              "\n",
              "\n",
              "<div id=\"df-a97d3466-2578-4428-867d-19ddca122346\">\n",
              "  <button class=\"colab-df-quickchart\" onclick=\"quickchart('df-a97d3466-2578-4428-867d-19ddca122346')\"\n",
              "            title=\"Suggest charts\"\n",
              "            style=\"display:none;\">\n",
              "\n",
              "<svg xmlns=\"http://www.w3.org/2000/svg\" height=\"24px\"viewBox=\"0 0 24 24\"\n",
              "     width=\"24px\">\n",
              "    <g>\n",
              "        <path d=\"M19 3H5c-1.1 0-2 .9-2 2v14c0 1.1.9 2 2 2h14c1.1 0 2-.9 2-2V5c0-1.1-.9-2-2-2zM9 17H7v-7h2v7zm4 0h-2V7h2v10zm4 0h-2v-4h2v4z\"/>\n",
              "    </g>\n",
              "</svg>\n",
              "  </button>\n",
              "\n",
              "<style>\n",
              "  .colab-df-quickchart {\n",
              "      --bg-color: #E8F0FE;\n",
              "      --fill-color: #1967D2;\n",
              "      --hover-bg-color: #E2EBFA;\n",
              "      --hover-fill-color: #174EA6;\n",
              "      --disabled-fill-color: #AAA;\n",
              "      --disabled-bg-color: #DDD;\n",
              "  }\n",
              "\n",
              "  [theme=dark] .colab-df-quickchart {\n",
              "      --bg-color: #3B4455;\n",
              "      --fill-color: #D2E3FC;\n",
              "      --hover-bg-color: #434B5C;\n",
              "      --hover-fill-color: #FFFFFF;\n",
              "      --disabled-bg-color: #3B4455;\n",
              "      --disabled-fill-color: #666;\n",
              "  }\n",
              "\n",
              "  .colab-df-quickchart {\n",
              "    background-color: var(--bg-color);\n",
              "    border: none;\n",
              "    border-radius: 50%;\n",
              "    cursor: pointer;\n",
              "    display: none;\n",
              "    fill: var(--fill-color);\n",
              "    height: 32px;\n",
              "    padding: 0;\n",
              "    width: 32px;\n",
              "  }\n",
              "\n",
              "  .colab-df-quickchart:hover {\n",
              "    background-color: var(--hover-bg-color);\n",
              "    box-shadow: 0 1px 2px rgba(60, 64, 67, 0.3), 0 1px 3px 1px rgba(60, 64, 67, 0.15);\n",
              "    fill: var(--button-hover-fill-color);\n",
              "  }\n",
              "\n",
              "  .colab-df-quickchart-complete:disabled,\n",
              "  .colab-df-quickchart-complete:disabled:hover {\n",
              "    background-color: var(--disabled-bg-color);\n",
              "    fill: var(--disabled-fill-color);\n",
              "    box-shadow: none;\n",
              "  }\n",
              "\n",
              "  .colab-df-spinner {\n",
              "    border: 2px solid var(--fill-color);\n",
              "    border-color: transparent;\n",
              "    border-bottom-color: var(--fill-color);\n",
              "    animation:\n",
              "      spin 1s steps(1) infinite;\n",
              "  }\n",
              "\n",
              "  @keyframes spin {\n",
              "    0% {\n",
              "      border-color: transparent;\n",
              "      border-bottom-color: var(--fill-color);\n",
              "      border-left-color: var(--fill-color);\n",
              "    }\n",
              "    20% {\n",
              "      border-color: transparent;\n",
              "      border-left-color: var(--fill-color);\n",
              "      border-top-color: var(--fill-color);\n",
              "    }\n",
              "    30% {\n",
              "      border-color: transparent;\n",
              "      border-left-color: var(--fill-color);\n",
              "      border-top-color: var(--fill-color);\n",
              "      border-right-color: var(--fill-color);\n",
              "    }\n",
              "    40% {\n",
              "      border-color: transparent;\n",
              "      border-right-color: var(--fill-color);\n",
              "      border-top-color: var(--fill-color);\n",
              "    }\n",
              "    60% {\n",
              "      border-color: transparent;\n",
              "      border-right-color: var(--fill-color);\n",
              "    }\n",
              "    80% {\n",
              "      border-color: transparent;\n",
              "      border-right-color: var(--fill-color);\n",
              "      border-bottom-color: var(--fill-color);\n",
              "    }\n",
              "    90% {\n",
              "      border-color: transparent;\n",
              "      border-bottom-color: var(--fill-color);\n",
              "    }\n",
              "  }\n",
              "</style>\n",
              "\n",
              "  <script>\n",
              "    async function quickchart(key) {\n",
              "      const quickchartButtonEl =\n",
              "        document.querySelector('#' + key + ' button');\n",
              "      quickchartButtonEl.disabled = true;  // To prevent multiple clicks.\n",
              "      quickchartButtonEl.classList.add('colab-df-spinner');\n",
              "      try {\n",
              "        const charts = await google.colab.kernel.invokeFunction(\n",
              "            'suggestCharts', [key], {});\n",
              "      } catch (error) {\n",
              "        console.error('Error during call to suggestCharts:', error);\n",
              "      }\n",
              "      quickchartButtonEl.classList.remove('colab-df-spinner');\n",
              "      quickchartButtonEl.classList.add('colab-df-quickchart-complete');\n",
              "    }\n",
              "    (() => {\n",
              "      let quickchartButtonEl =\n",
              "        document.querySelector('#df-a97d3466-2578-4428-867d-19ddca122346 button');\n",
              "      quickchartButtonEl.style.display =\n",
              "        google.colab.kernel.accessAllowed ? 'block' : 'none';\n",
              "    })();\n",
              "  </script>\n",
              "</div>\n",
              "    </div>\n",
              "  </div>\n"
            ],
            "application/vnd.google.colaboratory.intrinsic+json": {
              "type": "dataframe",
              "variable_name": "df_final"
            }
          },
          "metadata": {},
          "execution_count": 39
        }
      ]
    },
    {
      "cell_type": "markdown",
      "source": [
        "## [No Need] to RUN. We will now split the dataset for training,validataing and testing sets."
      ],
      "metadata": {
        "id": "ncCNaAjnzcej"
      }
    },
    {
      "cell_type": "code",
      "source": [
        "# from sklearn.model_selection import train_test_split, StratifiedShuffleSplit"
      ],
      "metadata": {
        "id": "7wh3t8Nlzdug"
      },
      "execution_count": null,
      "outputs": []
    },
    {
      "cell_type": "code",
      "source": [
        "#X_trainval,X_test,y_trainval,y_test=train_test_split(\n",
        "#    X,\n",
        "#    y,\n",
        "#    random_state=42,\n",
        "#    test_size=0.15\n",
        "#)"
      ],
      "metadata": {
        "id": "6b_xyVo3hfUb"
      },
      "execution_count": null,
      "outputs": []
    },
    {
      "cell_type": "code",
      "source": [
        "#X_train,X_val,y_train,y_val=train_test_split(\n",
        "#    X_trainval,\n",
        "#    y_trainval,\n",
        "#    random_state=42,\n",
        "#    test_size=0.15\n",
        "#)"
      ],
      "metadata": {
        "id": "UmKfGK-Qzk6N"
      },
      "execution_count": null,
      "outputs": []
    },
    {
      "cell_type": "markdown",
      "source": [
        "**Kita tidak pakai script diatas:** script diatas, dataset akan dibagi menjadi dua bagian dengan ukuran 15% untuk dataset Test (X_test dan y_test) dan 85% untuk dataset Train dan validasi (X_trainval dan y_trainval). Train 42.5% dan validasi 42.5%"
      ],
      "metadata": {
        "id": "-jddfaXjz9ua"
      }
    },
    {
      "cell_type": "markdown",
      "source": [
        "# Balancing Labels 0 and 1 in Train, Test, and Validation to avoid Overfitting"
      ],
      "metadata": {
        "id": "WEXSKQ7ussRk"
      }
    },
    {
      "cell_type": "markdown",
      "source": [
        "To make the label distribution balanced in each set (train, test, and validation), the *StratifiedShuffleSplit* module of ***scikit-learn*** is added."
      ],
      "metadata": {
        "id": "WEzgaWwmIeOg"
      }
    },
    {
      "cell_type": "code",
      "source": [
        "from sklearn.model_selection import train_test_split, StratifiedShuffleSplit"
      ],
      "metadata": {
        "id": "0-vjxxg5J4YN"
      },
      "execution_count": null,
      "outputs": []
    },
    {
      "cell_type": "code",
      "source": [
        "# Divide the data into train+validation and test while maintaining a balanced label distribution\n",
        "sss_trainval_test = StratifiedShuffleSplit(n_splits=1, test_size=0.15, random_state=42)\n",
        "trainval_idx, test_idx = next(sss_trainval_test.split(X, y))\n",
        "\n",
        "X_trainval, X_test = X.iloc[trainval_idx], X.iloc[test_idx]\n",
        "y_trainval, y_test = y.iloc[trainval_idx], y.iloc[test_idx]\n",
        "\n",
        "# Split train+validation data into train and validation maintaining an equal distribution of labels\n",
        "sss_train_val = StratifiedShuffleSplit(n_splits=1, test_size=0.5, random_state=42)\n",
        "train_idx, val_idx = next(sss_train_val.split(X_trainval, y_trainval))\n",
        "\n",
        "X_train, X_val = X_trainval.iloc[train_idx], X_trainval.iloc[val_idx]\n",
        "y_train, y_val = y_trainval.iloc[train_idx], y_trainval.iloc[val_idx]\n"
      ],
      "metadata": {
        "id": "rtPdO0spsar5"
      },
      "execution_count": null,
      "outputs": []
    },
    {
      "cell_type": "code",
      "source": [
        "# Calculating the length of each set\n",
        "total_length = len(X)\n",
        "train_length = len(X_train)\n",
        "val_length = len(X_val)\n",
        "test_length = len(X_test)\n",
        "\n",
        "# Calculating distribution percentage\n",
        "train_percentage = (train_length / total_length) * 100\n",
        "val_percentage = (val_length / total_length) * 100\n",
        "test_percentage = (test_length / total_length) * 100\n",
        "\n",
        "# Displaying results\n",
        "print(f\"Persentase Data Train: {train_percentage:.1f}%\")\n",
        "print(f\"Persentase Data Validation: {val_percentage:.1f}%\")\n",
        "print(f\"Persentase Data Test: {test_percentage:.1f}%\")"
      ],
      "metadata": {
        "colab": {
          "base_uri": "https://localhost:8080/"
        },
        "id": "IcfYDqeCE1IY",
        "outputId": "0fe84792-7d7e-4dec-ec62-4815ca82b842"
      },
      "execution_count": null,
      "outputs": [
        {
          "output_type": "stream",
          "name": "stdout",
          "text": [
            "Persentase Data Train: 42.5%\n",
            "Persentase Data Validation: 42.5%\n",
            "Persentase Data Test: 15.0%\n"
          ]
        }
      ]
    },
    {
      "cell_type": "code",
      "source": [
        "# Combining training and validation data to create plots\n",
        "train_val_data = pd.concat([X_train, X_val])\n",
        "train_val_labels = pd.concat([y_train, y_val])\n",
        "\n",
        "# Create histograms for label distribution on training and validation data\n",
        "sns.countplot(x=train_val_labels.map({0: \"Black campaign\", 1: \"Non-black campaign\"}), palette='viridis')\n",
        "plt.title('Label Distribution on Training and Validation Data', fontsize=16)\n",
        "plt.xlabel('Label', fontsize=12)\n",
        "plt.ylabel('DATA AMOUNT', fontsize=12)\n",
        "plt.show()\n",
        "\n",
        "# Create a histogram for the label distribution of the test data\n",
        "sns.countplot(x=y_test.map({0: \"Black campaign\", 1: \"Non-black campaign\"}), palette='viridis')\n",
        "plt.title('Label Distribution on Testing Data', fontsize=16)\n",
        "plt.xlabel('Label', fontsize=12)\n",
        "plt.ylabel('DATA AMOUNT', fontsize=12)\n",
        "plt.show()"
      ],
      "metadata": {
        "id": "wfJOZkBFptvp",
        "colab": {
          "base_uri": "https://localhost:8080/",
          "height": 1000
        },
        "outputId": "9573c1ec-4e82-4be7-d55e-c37bbcc1e0aa"
      },
      "execution_count": null,
      "outputs": [
        {
          "output_type": "stream",
          "name": "stderr",
          "text": [
            "<ipython-input-43-22ad9ac4fe45>:6: FutureWarning: \n",
            "\n",
            "Passing `palette` without assigning `hue` is deprecated and will be removed in v0.14.0. Assign the `x` variable to `hue` and set `legend=False` for the same effect.\n",
            "\n",
            "  sns.countplot(x=train_val_labels.map({0: \"Black campaign\", 1: \"Non-black campaign\"}), palette='viridis')\n"
          ]
        },
        {
          "output_type": "display_data",
          "data": {
            "text/plain": [
              "<Figure size 640x480 with 1 Axes>"
            ],
            "image/png": "[encoded data removed]"
          },
          "metadata": {}
        },
        {
          "output_type": "stream",
          "name": "stderr",
          "text": [
            "<ipython-input-43-22ad9ac4fe45>:13: FutureWarning: \n",
            "\n",
            "Passing `palette` without assigning `hue` is deprecated and will be removed in v0.14.0. Assign the `x` variable to `hue` and set `legend=False` for the same effect.\n",
            "\n",
            "  sns.countplot(x=y_test.map({0: \"Black campaign\", 1: \"Non-black campaign\"}), palette='viridis')\n"
          ]
        },
        {
          "output_type": "display_data",
          "data": {
            "text/plain": [
              "<Figure size 640x480 with 1 Axes>"
            ],
            "image/png": "[encoded data removed]"
          },
          "metadata": {}
        }
      ]
    },
    {
      "cell_type": "code",
      "source": [
        "# Mengatur warna palet untuk masing-masing set data\n",
        "#train_color = {\"Black campaign\": 'tomato', \"Non-black campaign\": 'limegreen'}\n",
        "#val_color = {\"Black campaign\": 'red', \"Non-black campaign\": 'green'}\n",
        "#test_color = {\"Black campaign\": 'darkred', \"Non-black campaign\": 'darkgreen'}\n",
        "train_color = ('deep')\n",
        "val_color = ('bright')\n",
        "test_color = ('dark')\n",
        "\n",
        "# Membuat subplot dengan 1 baris dan 3 kolom\n",
        "fig, axes = plt.subplots(1, 3, figsize=(18, 6), sharey=True)\n",
        "\n",
        "# Plot untuk data pelatihan pada subplot pertama (kiri)\n",
        "sns.countplot(x=y_train.map({0: \"Black campaign\", 1: \"Non-black campaign\"}), palette=train_color, ax=axes[0])\n",
        "axes[0].set_title('Label Distribution on Training Data', fontsize=16)\n",
        "axes[0].set_xlabel('Label', fontsize=12)\n",
        "axes[0].set_ylabel('DATA AMOUNT', fontsize=12)\n",
        "\n",
        "# Plot untuk data validasi pada subplot kedua (tengah)\n",
        "sns.countplot(x=y_val.map({0: \"Black campaign\", 1: \"Non-black campaign\"}), palette=val_color, ax=axes[1])\n",
        "axes[1].set_title('Label Distribution on Validation Data', fontsize=16)\n",
        "axes[1].set_xlabel('Label', fontsize=12)\n",
        "axes[1].set_ylabel('DATA AMOUNT', fontsize=12)\n",
        "\n",
        "# Plot untuk data pengujian pada subplot ketiga (kanan)\n",
        "sns.countplot(x=y_test.map({0: \"Black campaign\", 1: \"Non-black campaign\"}), palette=test_color, ax=axes[2])\n",
        "axes[2].set_title('Label Distribution on Testing Data', fontsize=16)\n",
        "axes[2].set_xlabel('Label', fontsize=12)\n",
        "axes[2].set_ylabel('DATA AMOUNT', fontsize=12)\n",
        "\n",
        "# Menentukan layout untuk menghindari tumpang tindih\n",
        "plt.tight_layout()\n",
        "plt.show()"
      ],
      "metadata": {
        "colab": {
          "base_uri": "https://localhost:8080/",
          "height": 608
        },
        "id": "E-TtXg3DBsSk",
        "outputId": "4c497ea1-dda9-4187-c1c0-a7324b96dee0"
      },
      "execution_count": null,
      "outputs": [
        {
          "output_type": "stream",
          "name": "stderr",
          "text": [
            "<ipython-input-44-c8988647e9fa>:13: FutureWarning: \n",
            "\n",
            "Passing `palette` without assigning `hue` is deprecated and will be removed in v0.14.0. Assign the `x` variable to `hue` and set `legend=False` for the same effect.\n",
            "\n",
            "  sns.countplot(x=y_train.map({0: \"Black campaign\", 1: \"Non-black campaign\"}), palette=train_color, ax=axes[0])\n",
            "<ipython-input-44-c8988647e9fa>:19: FutureWarning: \n",
            "\n",
            "Passing `palette` without assigning `hue` is deprecated and will be removed in v0.14.0. Assign the `x` variable to `hue` and set `legend=False` for the same effect.\n",
            "\n",
            "  sns.countplot(x=y_val.map({0: \"Black campaign\", 1: \"Non-black campaign\"}), palette=val_color, ax=axes[1])\n",
            "<ipython-input-44-c8988647e9fa>:25: FutureWarning: \n",
            "\n",
            "Passing `palette` without assigning `hue` is deprecated and will be removed in v0.14.0. Assign the `x` variable to `hue` and set `legend=False` for the same effect.\n",
            "\n",
            "  sns.countplot(x=y_test.map({0: \"Black campaign\", 1: \"Non-black campaign\"}), palette=test_color, ax=axes[2])\n"
          ]
        },
        {
          "output_type": "display_data",
          "data": {
            "text/plain": [
              "<Figure size 1800x600 with 3 Axes>"
            ],
            "image/png": "[encoded data removed]"
          },
          "metadata": {}
        }
      ]
    },
    {
      "cell_type": "markdown",
      "source": [
        "# Dont RUN! Pelatihan masih Overfitting ⚠"
      ],
      "metadata": {
        "id": "sWKy564FaOQk"
      }
    },
    {
      "cell_type": "code",
      "source": [
        "from tensorflow.keras.layers import LSTM\n",
        "from tensorflow.keras.layers import Dense\n",
        "from tensorflow.keras.layers import Embedding\n",
        "from tensorflow.keras.models import Sequential"
      ],
      "metadata": {
        "id": "MTia_7jt0pzW"
      },
      "execution_count": null,
      "outputs": []
    },
    {
      "cell_type": "markdown",
      "source": [
        "import libraries to create model"
      ],
      "metadata": {
        "id": "xyJLU3140uzH"
      }
    },
    {
      "cell_type": "code",
      "source": [
        "model=Sequential()"
      ],
      "metadata": {
        "id": "dCSlWYrn0wZC"
      },
      "execution_count": null,
      "outputs": []
    },
    {
      "cell_type": "code",
      "source": [
        "feature_num=100\n",
        "model.add(\n",
        "    Embedding(\n",
        "        input_dim=vocab_size,\n",
        "        output_dim=feature_num,\n",
        "        input_length=sentence_len\n",
        "    )\n",
        ")\n",
        "model.add(\n",
        "    LSTM(\n",
        "    units=128\n",
        "    )\n",
        ")\n",
        "\n",
        "model.add(\n",
        "    Dense(\n",
        "        units=1,\n",
        "        activation=\"sigmoid\"\n",
        "    )\n",
        ")"
      ],
      "metadata": {
        "id": "HKPdG1UL04D0"
      },
      "execution_count": null,
      "outputs": []
    },
    {
      "cell_type": "code",
      "source": [
        "from tensorflow.keras.optimizers import Adam\n",
        "model.compile(\n",
        "    optimizer=Adam(\n",
        "    learning_rate=0.001\n",
        "    ),\n",
        "    loss=\"binary_crossentropy\",\n",
        "    metrics=[\"accuracy\"]\n",
        ")"
      ],
      "metadata": {
        "id": "P7pQQlAx1Nmt"
      },
      "execution_count": null,
      "outputs": []
    },
    {
      "cell_type": "code",
      "source": [
        "#model.fit(\n",
        " #   X_train,\n",
        "  #  y_train,\n",
        "   # validation_data=(\n",
        "    #    X_val,\n",
        "     #   y_val\n",
        "   # ),\n",
        "  # epochs=10\n",
        "#)"
      ],
      "metadata": {
        "id": "Dgo6j81C1bsf"
      },
      "execution_count": null,
      "outputs": []
    },
    {
      "cell_type": "code",
      "source": [
        "import matplotlib.pyplot as plt\n",
        "\n",
        "history = model.fit(\n",
        "    X_train,\n",
        "    y_train,\n",
        "    validation_data=(X_val, y_val),\n",
        "    epochs=5\n",
        ")"
      ],
      "metadata": {
        "colab": {
          "base_uri": "https://localhost:8080/"
        },
        "id": "fFyHupzZmCGy",
        "outputId": "f3b317ba-13cd-4946-d6f0-cda10fea48da"
      },
      "execution_count": null,
      "outputs": [
        {
          "output_type": "stream",
          "name": "stdout",
          "text": [
            "Epoch 1/5\n",
            "75/75 [==============================] - 18s 157ms/step - loss: 0.4893 - accuracy: 0.7950 - val_loss: 0.2613 - val_accuracy: 0.9004\n",
            "Epoch 2/5\n",
            "75/75 [==============================] - 6s 79ms/step - loss: 0.1684 - accuracy: 0.9435 - val_loss: 0.2359 - val_accuracy: 0.9029\n",
            "Epoch 3/5\n",
            "75/75 [==============================] - 5s 69ms/step - loss: 0.0914 - accuracy: 0.9715 - val_loss: 0.2531 - val_accuracy: 0.9130\n",
            "Epoch 4/5\n",
            "75/75 [==============================] - 4s 49ms/step - loss: 0.0491 - accuracy: 0.9858 - val_loss: 0.3004 - val_accuracy: 0.8925\n",
            "Epoch 5/5\n",
            "75/75 [==============================] - 3s 39ms/step - loss: 0.0415 - accuracy: 0.9879 - val_loss: 0.3497 - val_accuracy: 0.8983\n"
          ]
        }
      ]
    },
    {
      "cell_type": "markdown",
      "source": [
        "# Dropout and Early Stopping avoid Overfitting"
      ],
      "metadata": {
        "id": "bGqzAw1vXtgQ"
      }
    },
    {
      "cell_type": "markdown",
      "source": [
        "**Overfitting:**\n",
        "Overfitting occurs when a machine learning model is too complex and starts to “memorize” the training data very well, even down to uncommon details. As a result, the model's performance on training data may be very high, but its performance on unseen data (such as validation or test data) is poor because the model cannot generalize patterns well.\n",
        "\n",
        "**Dropout:**\n",
        "Dropout is a popular overfitting prevention technique. It works by randomly “disabling” a fraction of the units or neurons in each layer during training. By doing this, dropout prevents certain neurons from becoming too dependent on other neurons, thus encouraging each neuron to become more independent and strengthening the generalization of the model.\n",
        "\n",
        "**Early Stopping:**\n",
        "Early stopping is another technique to combat overfitting. The basic idea is to stop the training process as soon as the performance on the validation dataset no longer improves. This is done by monitoring the metrics on the validation dataset (e.g., accuracy or loss) and stopping training when they no longer improve or even start to decline. This helps the model not to become too complex and overly customized to the training data."
      ],
      "metadata": {
        "id": "BFjFowDtbY_N"
      }
    },
    {
      "cell_type": "code",
      "source": [
        "from tensorflow.keras.layers import LSTM, Dense, Embedding, Dropout\n",
        "from tensorflow.keras.models import Sequential\n",
        "from tensorflow.keras.optimizers import Adam\n",
        "from tensorflow.keras.callbacks import EarlyStopping\n",
        "\n",
        "model = Sequential()\n",
        "feature_num = 100\n",
        "# Embedding Layer\n",
        "model.add(Embedding(input_dim=vocab_size, output_dim=feature_num, input_length=sentence_len))\n",
        "\n",
        "# LSTM Layer dengan Dropout\n",
        "model.add(LSTM(units=128)) #lapisan LSTM (64)\n",
        "model.add(Dropout(0.2))  # Menambahkan dropout dengan tingkat 0.2 (20%)\n",
        "\n",
        "# Dense Layer\n",
        "model.add(Dense(units=1, activation=\"sigmoid\"))\n",
        "\n",
        "# Kompilasi model dengan optimizer Adam dan learning rate\n",
        "learning_rate = 0.0001  # Sesuaikan dengan nilai yang diinginkan\n",
        "optimizer = Adam(learning_rate=learning_rate)\n",
        "\n",
        "model.compile(optimizer=optimizer, loss=\"binary_crossentropy\", metrics=[\"accuracy\"])\n",
        "\n",
        "# Early Stopping\n",
        "early_stopping = EarlyStopping(monitor='val_loss', patience=3, restore_best_weights=True)\n",
        "\n",
        "# Melatih model dengan data latihan dan validasi\n",
        "history = model.fit(X_train, y_train, validation_data=(X_val, y_val), epochs=6, callbacks=[early_stopping])\n"
      ],
      "metadata": {
        "colab": {
          "base_uri": "https://localhost:8080/"
        },
        "id": "QmciixevXu6V",
        "outputId": "9ce45b02-10c2-4fe1-a635-bd03d339ab77"
      },
      "execution_count": null,
      "outputs": [
        {
          "output_type": "stream",
          "name": "stdout",
          "text": [
            "Epoch 1/6\n",
            "75/75 [==============================] - 17s 169ms/step - loss: 0.6857 - accuracy: 0.5762 - val_loss: 0.6699 - val_accuracy: 0.5937\n",
            "Epoch 2/6\n",
            "75/75 [==============================] - 8s 100ms/step - loss: 0.6366 - accuracy: 0.6607 - val_loss: 0.5759 - val_accuracy: 0.7084\n",
            "Epoch 3/6\n",
            "75/75 [==============================] - 4s 59ms/step - loss: 0.5456 - accuracy: 0.7510 - val_loss: 0.4880 - val_accuracy: 0.7883\n",
            "Epoch 4/6\n",
            "75/75 [==============================] - 4s 52ms/step - loss: 0.4270 - accuracy: 0.8238 - val_loss: 0.3885 - val_accuracy: 0.8477\n",
            "Epoch 5/6\n",
            "75/75 [==============================] - 3s 34ms/step - loss: 0.3209 - accuracy: 0.8833 - val_loss: 0.3247 - val_accuracy: 0.8937\n",
            "Epoch 6/6\n",
            "75/75 [==============================] - 2s 28ms/step - loss: 0.2553 - accuracy: 0.9243 - val_loss: 0.2800 - val_accuracy: 0.8921\n"
          ]
        }
      ]
    },
    {
      "cell_type": "markdown",
      "source": [
        "# Grafik Pelatihan"
      ],
      "metadata": {
        "id": "TbsqpqOTZlwA"
      }
    },
    {
      "cell_type": "code",
      "source": [
        "# Visualizing the training and validation accuracy\n",
        "plt.figure(figsize=(10, 6))\n",
        "plt.plot(history.history['accuracy'], label='Training Accuracy', marker='o')\n",
        "plt.plot(history.history['val_accuracy'], label='Validation Accuracy', marker='o')\n",
        "plt.title('Training and Validation Accuracy', fontsize=16)\n",
        "plt.xlabel('Epochs', fontsize=12)\n",
        "plt.ylabel('Accuracy', fontsize=12)\n",
        "plt.legend(fontsize=12)\n",
        "plt.ylim(0.5, 1)  # Set limit for y-axis\n",
        "plt.grid(True)\n",
        "plt.show()\n",
        "\n",
        "# Visualizing the training and validation loss\n",
        "plt.figure(figsize=(10, 6))\n",
        "plt.plot(history.history['loss'], label='Training Loss', marker='o')\n",
        "plt.plot(history.history['val_loss'], label='Validation Loss', marker='o')\n",
        "plt.title('Training and Validation Loss', fontsize=16)\n",
        "plt.xlabel('Epochs', fontsize=12)\n",
        "plt.ylabel('Loss', fontsize=12)\n",
        "plt.legend(fontsize=12)\n",
        "plt.ylim(0, max(max(history.history['loss']), max(history.history['val_loss'])))  # Set limit for y-axis\n",
        "plt.grid(True)\n",
        "plt.show()"
      ],
      "metadata": {
        "colab": {
          "base_uri": "https://localhost:8080/",
          "height": 1000
        },
        "id": "yaZ2J4i7-j8t",
        "outputId": "1d162911-6375-4b4a-d710-642ffaf5fb8d"
      },
      "execution_count": null,
      "outputs": [
        {
          "output_type": "display_data",
          "data": {
            "text/plain": [
              "<Figure size 1000x600 with 1 Axes>"
            ],
            "image/png": "[encoded data removed]"
          },
          "metadata": {}
        },
        {
          "output_type": "display_data",
          "data": {
            "text/plain": [
              "<Figure size 1000x600 with 1 Axes>"
            ],
            "image/png": "[encoded data removed]"
          },
          "metadata": {}
        }
      ]
    },
    {
      "cell_type": "markdown",
      "source": [
        "**With the addition of Dropout and Early Stopping functions, the data does not suffer from overfitting.\n",
        "\n",
        "In general, overfitting occurs when a model learns the training data too well and cannot generalize to new data. This can be seen in the Training Loss and Validation curves. The Training Loss curve decreases as the model learns the training data, while the Validation Loss curve flattens or decreases more slowly. If the validation loss curve starts to increase after a few epochs, this is a sign that the model is overfitting.\n",
        "\n",
        "In the data provided, the Validation Loss curve does not increase after any epoch. In fact, it decreases slightly between epochs 2 and 3. This indicates that the model generalizes well on the validation data and is not overfitting."
      ],
      "metadata": {
        "id": "8T--C4q7czTO"
      }
    },
    {
      "cell_type": "markdown",
      "source": [
        "# Evaluation Process"
      ],
      "metadata": {
        "id": "ZyGB56vWZxd_"
      }
    },
    {
      "cell_type": "markdown",
      "source": [
        "Since the model has been equipped with the required dataset, it is now time how our model predicts the test data that we have separated earlier.\n",
        "\n",
        "The predictions will be stored in a boolean array where **prediction values greater than 0.5 will be assigned the value True (BC) and those smaller than 0.5 will be assigned the value False (NBC)**."
      ],
      "metadata": {
        "id": "O0WC3TlqKvAg"
      }
    },
    {
      "cell_type": "markdown",
      "source": [
        "First of all, keep in mind that the accuracy value at the end of training **(accuracy: 0.9712)** that you see from the training history refers to the model's performance on the training data (X_train, y_train) and validation data (X_val, y_val) during the training process. This gives an idea of how well the model learned the patterns in the data used during training.\n",
        "\n",
        "Meanwhile, you calculate the accuracy value after training **(92.42%)** using the test data (X_test, y_test) using accuracy_score from Scikit-Learn. This gives an idea of how well the model can make predictions on new data that was never seen during training."
      ],
      "metadata": {
        "id": "AVEaJVwRLRu_"
      }
    },
    {
      "cell_type": "code",
      "source": [
        "y_pred=model.predict(X_test)\n",
        "y_pred=(y_pred>0.5)"
      ],
      "metadata": {
        "colab": {
          "base_uri": "https://localhost:8080/"
        },
        "id": "niJuD2HL3Uh5",
        "outputId": "b79004a6-442c-40b8-ef52-7bf380116f40"
      },
      "execution_count": null,
      "outputs": [
        {
          "output_type": "stream",
          "name": "stdout",
          "text": [
            "27/27 [==============================] - 1s 8ms/step\n"
          ]
        }
      ]
    },
    {
      "cell_type": "code",
      "source": [
        "from sklearn.metrics import accuracy_score,confusion_matrix"
      ],
      "metadata": {
        "id": "53Ycry-l3YME"
      },
      "execution_count": null,
      "outputs": []
    },
    {
      "cell_type": "code",
      "source": [
        "#Model memprediksi dengan cukup baik pada data uji yang terlihat dari skor akurasi.\n",
        "\n",
        "score=accuracy_score(y_test,y_pred)\n",
        "print(\"Test Score:{:.2f}%\".format(score*100))"
      ],
      "metadata": {
        "colab": {
          "base_uri": "https://localhost:8080/"
        },
        "id": "LuwQ8irz3arl",
        "outputId": "d1017ab6-868c-42ff-a6d5-a1873f8be1fa"
      },
      "execution_count": null,
      "outputs": [
        {
          "output_type": "stream",
          "name": "stdout",
          "text": [
            "Test Score:91.23%\n"
          ]
        }
      ]
    },
    {
      "cell_type": "code",
      "source": [
        "# Prediksi model (pastikan variabel y_pred sudah diinisialisasi dengan hasil prediksi)\n",
        "y_pred = model.predict(X_test)\n",
        "y_pred = (y_pred > 0.5)\n",
        "\n",
        "# Konversi label 0 dan 1 menjadi nonblack-campaign dan black-campaign\n",
        "y_test_labels = ['nonblack-campaign' if label == 0 else 'black-campaign' for label in y_test]\n",
        "y_pred_labels = ['nonblack-campaign' if label == 0 else 'black-campaign' for label in y_pred]\n",
        "\n",
        "# Membuat confusion matrix\n",
        "cm = confusion_matrix(y_test_labels, y_pred_labels)\n",
        "\n",
        "# Plotting heatmap\n",
        "fig, ax = plt.subplots()\n",
        "sns.heatmap(cm, annot=True, fmt='d', cmap='Greens', xticklabels=['nonblack-campaign', 'black-campaign'], yticklabels=['nonblack-campaign', 'black-campaign'])\n",
        "plt.title(\"Confusion Matrix using LSTM\")\n",
        "ax.set_xlabel('Predicted labels')\n",
        "ax.set_ylabel('True labels')\n",
        "plt.show()\n",
        "\n",
        "# Menampilkan confusion matrix\n",
        "print(\"Confusion Matrix LSTM:\")\n",
        "print(cm)"
      ],
      "metadata": {
        "colab": {
          "base_uri": "https://localhost:8080/",
          "height": 541
        },
        "id": "2sQsUZWRyp_d",
        "outputId": "835cf339-8610-4c8b-f02c-56a6717b14b9"
      },
      "execution_count": null,
      "outputs": [
        {
          "output_type": "stream",
          "name": "stdout",
          "text": [
            "27/27 [==============================] - 0s 7ms/step\n"
          ]
        },
        {
          "output_type": "display_data",
          "data": {
            "text/plain": [
              "<Figure size 640x480 with 2 Axes>"
            ],
            "image/png": "[encoded data removed]"
          },
          "metadata": {}
        },
        {
          "output_type": "stream",
          "name": "stdout",
          "text": [
            "Confusion Matrix LSTM:\n",
            "[[379  43]\n",
            " [ 31 391]]\n"
          ]
        }
      ]
    },
    {
      "cell_type": "code",
      "source": [
        "from sklearn.metrics import accuracy_score, precision_score, recall_score, f1_score"
      ],
      "metadata": {
        "id": "dt3ZeP4BoDaO"
      },
      "execution_count": null,
      "outputs": []
    },
    {
      "cell_type": "code",
      "source": [
        "# Hitung metrik evaluasi\n",
        "accuracy = accuracy_score(y_test, y_pred)\n",
        "precision = precision_score(y_test, y_pred)\n",
        "recall = recall_score(y_test, y_pred)\n",
        "f1 = f1_score(y_test, y_pred)"
      ],
      "metadata": {
        "id": "oJbNBioBn00W"
      },
      "execution_count": null,
      "outputs": []
    },
    {
      "cell_type": "code",
      "source": [
        "# Tampilkan hasil metrik evaluasi\n",
        "print(\"Akurasi: {:.2f}%\".format(accuracy * 100))\n",
        "print(\"Presisi: {:.2f}\".format(precision))\n",
        "print(\"Recall: {:.2f}\".format(recall))\n",
        "print(\"F1-score: {:.2f}\".format(f1))"
      ],
      "metadata": {
        "id": "9R3uf8ByoILV",
        "outputId": "f5e7955a-d435-4a88-b458-4e41f70df768",
        "colab": {
          "base_uri": "https://localhost:8080/"
        }
      },
      "execution_count": null,
      "outputs": [
        {
          "output_type": "stream",
          "name": "stdout",
          "text": [
            "Akurasi: 91.23%\n",
            "Presisi: 0.92\n",
            "Recall: 0.90\n",
            "F1-score: 0.91\n"
          ]
        }
      ]
    },
    {
      "cell_type": "markdown",
      "source": [
        "# Proses Deteksi V1"
      ],
      "metadata": {
        "id": "ZCEzn_69361k"
      }
    },
    {
      "cell_type": "code",
      "source": [
        "#The function take model and message as parameter\n",
        "def classify_message(model,message):\n",
        "\n",
        "    #We will treat message as a paragraphs containing multiple sentences(lines)\n",
        "    #we will extract individual lines\n",
        "    for sentences in message:\n",
        "        sentences=nltk.sent_tokenize(message)\n",
        "        #sentences   = stemmer.stem(message)\n",
        "\n",
        "        #Iterate over individual sentences\n",
        "        for sentence in sentences:\n",
        "            #replace all special characters\n",
        "            words=re.sub(\"[^a-zA-Z]\",\" \",sentence)\n",
        "\n",
        "            #perform word tokenization of all non-english-stopwords\n",
        "            if words not in set(stopwords.words('english')):\n",
        "                word=nltk.word_tokenize(words)\n",
        "                word=\" \".join(word)\n",
        "\n",
        "    #perform one_hot on tokenized word\n",
        "    oneHot=[one_hot(word,n=vocab_size)]\n",
        "\n",
        "    #create an embedded documnet using pad_sequences\n",
        "    #this can be fed to our model\n",
        "    text=pad_sequences(oneHot,maxlen=sentence_len,padding=\"pre\")\n",
        "\n",
        "    #predict the text using model\n",
        "    predict=model.predict(text)\n",
        "\n",
        "    #if predict value is greater than 0.5 its not a BC\n",
        "    if predict>0.5:\n",
        "        print(\"black-campaign\")\n",
        "    #else the message is a NBC\n",
        "    else:\n",
        "        print(\"nonblack-campaign\")"
      ],
      "metadata": {
        "id": "JmYJLuFg4FOO"
      },
      "execution_count": null,
      "outputs": []
    },
    {
      "cell_type": "code",
      "source": [
        "#TEST DETEKSI\n",
        "#message=\"Ganjar Yakin Menang di Jateng meski ada Gibran\"\n",
        "message=\"Anies-Muhaimin Sukses Membawa Gaya Kampanye Baru di Indonesia, Biasa Dilakukan di Negara Maju\"\n",
        "\n",
        "classify_message(model, message)"
      ],
      "metadata": {
        "id": "o7DQhCh14In3",
        "colab": {
          "base_uri": "https://localhost:8080/"
        },
        "outputId": "047f41b8-2698-4ebe-ac13-58b3f3f048fd"
      },
      "execution_count": null,
      "outputs": [
        {
          "output_type": "stream",
          "name": "stdout",
          "text": [
            "1/1 [==============================] - 0s 100ms/step\n",
            "nonblack-campaign\n"
          ]
        }
      ]
    },
    {
      "cell_type": "markdown",
      "source": [
        "Deteksi Model:\n",
        "*(Black Campaign ❌,\n",
        "Non-Black Campaign ✔️) *"
      ],
      "metadata": {
        "id": "nrp5AYDqG358"
      }
    },
    {
      "cell_type": "code",
      "source": [
        "messages = [\"Ganjar Yakin Menang di Jateng meski ada Gibran\",\n",
        "            \"Ganjar melakukan Pelanggaran HAM Kasus Wadas dan Kendeng\",\n",
        "            \"Prabowo Unggul Atas Ganjar dan Anies di Simulasi Pilpres Dua Nama\",\n",
        "            \"KPK Selidiki Anies Terkait Korupsi Formula E\",\n",
        "            \"Survei terbaru IPO Anies-Muhaimin sukses menyalip Ganjar-Mahfud.. Selangkah lagi menang satu putaran!!\",\n",
        "            \"Pencalonan Gibran Rakabuming Sebagai wakil Presiden Prabowo Dianggap Cacat Hukum\"]\n",
        "\n",
        "for i, message in enumerate(messages, start=1):\n",
        "    result = classify_message(model, message)\n",
        "    print(f\"{i}/{len(messages)}\")\n",
        "    if result is not None:\n",
        "        print(result)\n",
        "    else:\n",
        "        print(f\"message{i}: {message}\")"
      ],
      "metadata": {
        "colab": {
          "base_uri": "https://localhost:8080/"
        },
        "id": "oolgEKRmCJyN",
        "outputId": "87ec553d-ca39-4b8b-e8d6-62f5693b4fdd"
      },
      "execution_count": null,
      "outputs": [
        {
          "output_type": "stream",
          "name": "stdout",
          "text": [
            "1/1 [==============================] - 0s 20ms/step\n",
            "nonblack-campaign\n",
            "1/6\n",
            "message1: Ganjar Yakin Menang di Jateng meski ada Gibran\n",
            "1/1 [==============================] - 0s 19ms/step\n",
            "black-campaign\n",
            "2/6\n",
            "message2: Ganjar melakukan Pelanggaran HAM Kasus Wadas dan Kendeng\n",
            "1/1 [==============================] - 0s 21ms/step\n",
            "nonblack-campaign\n",
            "3/6\n",
            "message3: Prabowo Unggul Atas Ganjar dan Anies di Simulasi Pilpres Dua Nama\n",
            "1/1 [==============================] - 0s 27ms/step\n",
            "black-campaign\n",
            "4/6\n",
            "message4: KPK Selidiki Anies Terkait Korupsi Formula E\n",
            "1/1 [==============================] - 0s 21ms/step\n",
            "nonblack-campaign\n",
            "5/6\n",
            "message5: Survei terbaru IPO Anies-Muhaimin sukses menyalip Ganjar-Mahfud.. Selangkah lagi menang satu putaran!!\n",
            "1/1 [==============================] - 0s 19ms/step\n",
            "black-campaign\n",
            "6/6\n",
            "message6: Pencalonan Gibran Rakabuming Sebagai wakil Presiden Prabowo Dianggap Cacat Hukum\n"
          ]
        }
      ]
    },
    {
      "cell_type": "markdown",
      "source": [
        "# Proses Deteksi V2"
      ],
      "metadata": {
        "id": "ULUnh-Y61xfB"
      }
    },
    {
      "cell_type": "code",
      "source": [
        "pip install sastrawi"
      ],
      "metadata": {
        "colab": {
          "base_uri": "https://localhost:8080/"
        },
        "id": "J7Pwv5es2BQV",
        "outputId": "deaa83bb-2652-47f8-f9c1-e7a23e7034d2"
      },
      "execution_count": null,
      "outputs": [
        {
          "output_type": "stream",
          "name": "stdout",
          "text": [
            "Collecting sastrawi\n",
            "  Downloading Sastrawi-1.0.1-py2.py3-none-any.whl (209 kB)\n",
            "\u001b[?25l     \u001b[90m━━━━━━━━━━━━━━━━━━━━━━━━━━━━━━━━━━━━━━━━\u001b[0m \u001b[32m0.0/209.7 kB\u001b[0m \u001b[31m?\u001b[0m eta \u001b[36m-:--:--\u001b[0m\r\u001b[2K     \u001b[91m━━━━━━━━━━━━━━━━━━━━━━━━━━━━━━━━━━━━━━━\u001b[0m\u001b[90m╺\u001b[0m \u001b[32m204.8/209.7 kB\u001b[0m \u001b[31m6.4 MB/s\u001b[0m eta \u001b[36m0:00:01\u001b[0m\r\u001b[2K     \u001b[90m━━━━━━━━━━━━━━━━━━━━━━━━━━━━━━━━━━━━━━━━\u001b[0m \u001b[32m209.7/209.7 kB\u001b[0m \u001b[31m5.2 MB/s\u001b[0m eta \u001b[36m0:00:00\u001b[0m\n",
            "\u001b[?25hInstalling collected packages: sastrawi\n",
            "Successfully installed sastrawi-1.0.1\n"
          ]
        }
      ]
    },
    {
      "cell_type": "code",
      "source": [
        "from Sastrawi.StopWordRemover.StopWordRemoverFactory import StopWordRemoverFactory"
      ],
      "metadata": {
        "id": "CHX-VQ9f2LRm"
      },
      "execution_count": null,
      "outputs": []
    },
    {
      "cell_type": "code",
      "source": [
        "# Function to classify messages\n",
        "def classify_message(model, message):\n",
        "    # Create a StopWord Remover\n",
        "    stopword_remover = StopWordRemoverFactory().create_stop_word_remover()\n",
        "\n",
        "    # Tokenize sentences\n",
        "    sentences = nltk.sent_tokenize(message)\n",
        "\n",
        "    # Process each sentence\n",
        "    for sentence in sentences:\n",
        "        # Remove special characters\n",
        "        words = re.sub(\"[^a-zA-Z]\", \" \", sentence)\n",
        "\n",
        "        # Perform stopword removal using Sastrawi\n",
        "        words = stopword_remover.remove(words)\n",
        "\n",
        "        # Tokenize words\n",
        "        word = nltk.word_tokenize(words)\n",
        "        word = \" \".join(word)\n",
        "\n",
        "        # Perform one_hot on tokenized word\n",
        "        oneHot = [one_hot(word, n=vocab_size)]\n",
        "\n",
        "        # Create an embedded document using pad_sequences\n",
        "        text = pad_sequences(oneHot, maxlen=sentence_len, padding=\"pre\")\n",
        "\n",
        "        # Predict the text using the model\n",
        "        predict = model.predict(text)\n",
        "\n",
        "        # If the predict value is greater than 0.5, it's not a BC\n",
        "        if predict > 0.5:\n",
        "            print(\"black campaign\")\n",
        "        # Else the message is a BC\n",
        "        else:\n",
        "            print(\"non-black campaign\")"
      ],
      "metadata": {
        "id": "ZcRe75Rk2QY3"
      },
      "execution_count": null,
      "outputs": []
    },
    {
      "cell_type": "code",
      "source": [
        "#TEST DETEKSI\n",
        "message=\"Ganjar Yakin Menang di Jateng meski ada Gibran\"\n",
        "#message=\"Waspadalah, krn kpu & bawaslu tdk netral nih, pdahal paslon prabowo-gibran itu cacat hukum, terbukti langgar konstitusi\"\n",
        "\n",
        "classify_message(model, message)"
      ],
      "metadata": {
        "colab": {
          "base_uri": "https://localhost:8080/"
        },
        "id": "FyPd6tRn-Ov5",
        "outputId": "d4b2eb4f-e136-40cf-fb0c-170f46b0dd9b"
      },
      "execution_count": null,
      "outputs": [
        {
          "output_type": "stream",
          "name": "stdout",
          "text": [
            "1/1 [==============================] - 0s 20ms/step\n",
            "non-black campaign\n"
          ]
        }
      ]
    },
    {
      "cell_type": "code",
      "source": [
        "messages = [\"Ganjar Yakin Menang di Jateng meski ada Gibran\",\n",
        "            \"Ganjar melakukan Pelanggaran HAM Kasus Wadas dan Kendeng\",\n",
        "            \"Prabowo Unggul Atas Ganjar dan Anies di Simulasi Pilpres Dua Nama\",\n",
        "            \"KPK Selidiki Anies Terkait Korupsi Formula E\",\n",
        "            \"Survei terbaru IPO Anies-Muhaimin sukses menyalip Ganjar-Mahfud.. Selangkah lagi menang satu putaran!!\",\n",
        "            \"Pencalonan Gibran Rakabuming Sebagai wakil Presiden Prabowo Dianggap Cacat Hukum\"]\n",
        "\n",
        "for i, message in enumerate(messages, start=1):\n",
        "    result = classify_message(model, message)\n",
        "    print(f\"{i}/{len(messages)}\")\n",
        "    if result is not None:\n",
        "        print(result)\n",
        "    else:\n",
        "        print(f\"message{i}: {message}\")"
      ],
      "metadata": {
        "colab": {
          "base_uri": "https://localhost:8080/"
        },
        "id": "lfwq4cky2YLh",
        "outputId": "659b6788-4889-42e4-cca1-a7acd24edda7"
      },
      "execution_count": null,
      "outputs": [
        {
          "output_type": "stream",
          "name": "stdout",
          "text": [
            "1/1 [==============================] - 0s 20ms/step\n",
            "non-black campaign\n",
            "1/6\n",
            "message1: Ganjar Yakin Menang di Jateng meski ada Gibran\n",
            "1/1 [==============================] - 0s 18ms/step\n",
            "black campaign\n",
            "2/6\n",
            "message2: Ganjar melakukan Pelanggaran HAM Kasus Wadas dan Kendeng\n",
            "1/1 [==============================] - 0s 20ms/step\n",
            "non-black campaign\n",
            "3/6\n",
            "message3: Prabowo Unggul Atas Ganjar dan Anies di Simulasi Pilpres Dua Nama\n",
            "1/1 [==============================] - 0s 21ms/step\n",
            "black campaign\n",
            "4/6\n",
            "message4: KPK Selidiki Anies Terkait Korupsi Formula E\n",
            "1/1 [==============================] - 0s 21ms/step\n",
            "non-black campaign\n",
            "1/1 [==============================] - 0s 18ms/step\n",
            "non-black campaign\n",
            "5/6\n",
            "message5: Survei terbaru IPO Anies-Muhaimin sukses menyalip Ganjar-Mahfud.. Selangkah lagi menang satu putaran!!\n",
            "1/1 [==============================] - 0s 21ms/step\n",
            "black campaign\n",
            "6/6\n",
            "message6: Pencalonan Gibran Rakabuming Sebagai wakil Presiden Prabowo Dianggap Cacat Hukum\n"
          ]
        }
      ]
    },
    {
      "cell_type": "markdown",
      "source": [
        "# Explainable AI, the dominant word"
      ],
      "metadata": {
        "id": "DR8dz-jb-Oe7"
      }
    },
    {
      "cell_type": "code",
      "source": [
        "from nltk import FreqDist, word_tokenize"
      ],
      "metadata": {
        "id": "VSCHk-r83l7l"
      },
      "execution_count": null,
      "outputs": []
    },
    {
      "cell_type": "code",
      "source": [
        "# Fungsi untuk membersihkan teks dari stop words\n",
        "def remove_stopwords(text):\n",
        "    stop_words = set(stopwords.words(\"indonesian\"))\n",
        "    words = word_tokenize(text)\n",
        "    filtered_words = [word.lower() for word in words if word.isalpha() and word.lower() not in stop_words]\n",
        "    return filtered_words\n",
        "\n",
        "# Menghitung frekuensi kata untuk setiap kategori\n",
        "category_words = {}\n",
        "\n",
        "for category in df['Category'].unique():\n",
        "    category_text = \" \".join(df[df['Category'] == category]['Message'])\n",
        "    words = remove_stopwords(category_text)\n",
        "    freq_dist = FreqDist(words)\n",
        "    category_words[category] = freq_dist.most_common(30)\n",
        "\n",
        "# Menampilkan hasil\n",
        "for category, words in category_words.items():\n",
        "    print(f\"Top 30 words in category '{category}':\")\n",
        "    for word, count in words:\n",
        "        print(f\"{word}: {count}\")\n",
        "    print(\"\\n\")"
      ],
      "metadata": {
        "colab": {
          "base_uri": "https://localhost:8080/"
        },
        "id": "aKUxhr6E30Do",
        "outputId": "fec7bb0c-03ed-467d-9214-9eb4fac9644f"
      },
      "execution_count": null,
      "outputs": [
        {
          "output_type": "stream",
          "name": "stdout",
          "text": [
            "Top 30 words in category 'nonblack-campaign':\n",
            "ganjar: 1454\n",
            "dukung: 1057\n",
            "prabowo: 948\n",
            "sukses: 878\n",
            "anies: 858\n",
            "mahfud: 856\n",
            "menang: 757\n",
            "indonesia: 720\n",
            "unggul: 663\n",
            "maju: 379\n",
            "moga: 286\n",
            "pasang: 273\n",
            "keren: 231\n",
            "pimpin: 219\n",
            "presiden: 217\n",
            "subianto: 216\n",
            "pks: 184\n",
            "md: 180\n",
            "visi: 175\n",
            "amin: 170\n",
            "wujud: 164\n",
            "pilih: 162\n",
            "pranowo: 161\n",
            "cepat: 161\n",
            "bangun: 161\n",
            "negara: 154\n",
            "survei: 146\n",
            "baswedan: 145\n",
            "jateng: 142\n",
            "rakyat: 140\n",
            "\n",
            "\n",
            "Top 30 words in category 'black-campaign':\n",
            "ganjar: 1214\n",
            "anies: 1113\n",
            "prabowo: 707\n",
            "dukung: 519\n",
            "korupsi: 391\n",
            "jokowi: 312\n",
            "gagal: 285\n",
            "presiden: 277\n",
            "indonesia: 267\n",
            "tangkap: 244\n",
            "raja: 231\n",
            "arab: 228\n",
            "hancur: 226\n",
            "bobrok: 224\n",
            "suka: 220\n",
            "becus: 218\n",
            "imam: 208\n",
            "radikal: 201\n",
            "ormas: 199\n",
            "mahdi: 197\n",
            "baswedan: 191\n",
            "orang: 185\n",
            "pilih: 171\n",
            "rakyat: 162\n",
            "bokep: 162\n",
            "saudi: 158\n",
            "capres: 156\n",
            "ektp: 154\n",
            "porno: 152\n",
            "negara: 151\n",
            "\n",
            "\n"
          ]
        }
      ]
    },
    {
      "cell_type": "code",
      "source": [
        "# Visualisasi\n",
        "plt.figure(figsize=(12, 8))\n",
        "\n",
        "for i, (category, words) in enumerate(category_words.items()):\n",
        "    word_df = pd.DataFrame(words, columns=['Word', 'Count'])\n",
        "    plt.bar(word_df['Word'] + f\"\", word_df['Count'], alpha=0.7, label=category)\n",
        "\n",
        "plt.title('Top 20 Words in Each Category')\n",
        "plt.xlabel('Words')\n",
        "plt.ylabel('Count')\n",
        "plt.xticks(rotation=45)\n",
        "plt.legend()\n",
        "plt.show()"
      ],
      "metadata": {
        "colab": {
          "base_uri": "https://localhost:8080/",
          "height": 712
        },
        "id": "F9LkAL977ej2",
        "outputId": "8ca2eeff-110b-4287-b92d-424cdf09cdf1"
      },
      "execution_count": null,
      "outputs": [
        {
          "output_type": "display_data",
          "data": {
            "text/plain": [
              "<Figure size 1200x800 with 1 Axes>"
            ],
            "image/png": "[encoded data removed]"
          },
          "metadata": {}
        }
      ]
    },
    {
      "cell_type": "markdown",
      "source": [
        "# Ready to Ensamble"
      ],
      "metadata": {
        "id": "ySGvv3tk-I5V"
      }
    },
    {
      "cell_type": "code",
      "source": [
        "df"
      ],
      "metadata": {
        "colab": {
          "base_uri": "https://localhost:8080/",
          "height": 964
        },
        "id": "nfS8hT80o_Uo",
        "outputId": "0724beec-3168-44d2-c4c4-a7e5f360c154"
      },
      "execution_count": null,
      "outputs": [
        {
          "output_type": "execute_result",
          "data": {
            "text/plain": [
              "                          created_at         username  \\\n",
              "0     Wed Oct 18 09:04:13 +0000 2023          zkldnq2   \n",
              "1     Tue Oct 10 11:40:52 +0000 2023    giojen_bigwin   \n",
              "2     Tue Oct 03 09:31:35 +0000 2023   LutfiatiAsyifa   \n",
              "3     Sat Oct 21 01:15:20 +0000 2023  MbakYanti_Manis   \n",
              "4     Tue Aug 22 03:33:24 +0000 2023    BaddrusB24865   \n",
              "...                              ...              ...   \n",
              "5619  Thu Oct 19 06:18:00 +0000 2023        jungkiouk   \n",
              "5620  Sat Oct 21 12:33:22 +0000 2023   Akhmad67523072   \n",
              "5621  Fri Oct 20 09:44:52 +0000 2023        dikarst11   \n",
              "5622  Tue May 23 00:47:55 +0000 2023       silobahata   \n",
              "5623  Sat Oct 21 04:54:29 +0000 2023           L1L178   \n",
              "\n",
              "                                                   text  \\\n",
              "0     @Perju4ng4n @Gerindra @PartaiSocmed @corbuzier...   \n",
              "1     @HensuAja @__AnakKolong @datuakrajoangek @prab...   \n",
              "2     @negativisme @prabowo @ganjarpranowo @aniesbas...   \n",
              "3     Ganjar Pranowo - Mahfud MD Menuju Indonesia Un...   \n",
              "4     @Tjel0up Pak @prabowo Dan pak @ganjarpranowo  ...   \n",
              "...                                                 ...   \n",
              "5619  Pada tau gak sihðŸ¤”?! Anies Baswedan sukses b...   \n",
              "5620  Terlihat jelas ke ikhlassn,kejujuran dan ketul...   \n",
              "5621  @KataNadiaaa Dukung pak ganjar insyaallah past...   \n",
              "5622  Kpk kerjaannya selama ini apa dong. Yg korupsi...   \n",
              "5623  Salah satu Visi misi pasangan Ganjar Mahfud ad...   \n",
              "\n",
              "                                           prepros_text  \\\n",
              "0           sukses trs pak prabowo projo dukung prabowo   \n",
              "1     anakkolong bentar lg juga di mute nih anak mas...   \n",
              "2     setuju desa gw sama juga mana uda periode kaga...   \n",
              "3     ganjar pranowo mahfud md menuju indonesia ungg...   \n",
              "4     pak dan pak hariiii lah dipuji kami pemikiran ...   \n",
              "...                                                 ...   \n",
              "5619  pada tau gak sih anies baswedan sukses bangun ...   \n",
              "5620  terlihat jelas ke ikhlassnkejujuran dan ketulu...   \n",
              "5621          dukung pak ganjar insyaallah pasti menang   \n",
              "5622  kpk kerjaannya selama ini apa dong yg korupsi ...   \n",
              "5623  salah satu visi misi pasangan ganjar mahfud ad...   \n",
              "\n",
              "                                                Message           Category  \\\n",
              "0               sukses trs prabowo projo dukung prabowo  nonblack-campaign   \n",
              "1     anakkolong bentar lg mute anak bikin hancur ku...     black-campaign   \n",
              "2                  tuju desa gw uda periode kagak becus     black-campaign   \n",
              "3     ganjar pranowo mahfud md indonesia unggul wuju...  nonblack-campaign   \n",
              "4          hariiii puji pikir objektif nilai pilih baik     black-campaign   \n",
              "...                                                 ...                ...   \n",
              "5619  anies baswedan sukses bangun sekolah kelas dun...  nonblack-campaign   \n",
              "5620  ikhlassnkejujuran tulus tuk abdi rakyat kesan ...  nonblack-campaign   \n",
              "5621                    dukung ganjar insyaallah menang  nonblack-campaign   \n",
              "5622  kpk kerja korupsi triliun tangkap anies berfoy...     black-campaign   \n",
              "5623  salah visi misi pasang ganjar mahfud lestari c...  nonblack-campaign   \n",
              "\n",
              "      Message Length  Label                                    Separated_Words  \n",
              "0                 39      0     [sukses, trs, prabowo, projo, dukung, prabowo]  \n",
              "1                 54      1  [anakkolong, bentar, lg, mute, anak, bikin, ha...  \n",
              "2                 36      1       [tuju, desa, gw, uda, periode, kagak, becus]  \n",
              "3                119      0  [ganjar, pranowo, mahfud, md, indonesia, unggu...  \n",
              "4                 44      1  [hariiii, puji, pikir, objektif, nilai, pilih,...  \n",
              "...              ...    ...                                                ...  \n",
              "5619              71      0  [anies, baswedan, sukses, bangun, sekolah, kel...  \n",
              "5620             133      0  [ikhlassnkejujuran, tulus, tuk, abdi, rakyat, ...  \n",
              "5621              31      0               [dukung, ganjar, insyaallah, menang]  \n",
              "5622             113      1  [kpk, kerja, korupsi, triliun, tangkap, anies,...  \n",
              "5623             126      0  [salah, visi, misi, pasang, ganjar, mahfud, le...  \n",
              "\n",
              "[5624 rows x 9 columns]"
            ],
            "text/html": [
              "\n",
              "  <div id=\"df-2dc1cce6-c84a-4cf1-8203-731b6175dfe7\" class=\"colab-df-container\">\n",
              "    <div>\n",
              "<style scoped>\n",
              "    .dataframe tbody tr th:only-of-type {\n",
              "        vertical-align: middle;\n",
              "    }\n",
              "\n",
              "    .dataframe tbody tr th {\n",
              "        vertical-align: top;\n",
              "    }\n",
              "\n",
              "    .dataframe thead th {\n",
              "        text-align: right;\n",
              "    }\n",
              "</style>\n",
              "<table border=\"1\" class=\"dataframe\">\n",
              "  <thead>\n",
              "    <tr style=\"text-align: right;\">\n",
              "      <th></th>\n",
              "      <th>created_at</th>\n",
              "      <th>username</th>\n",
              "      <th>text</th>\n",
              "      <th>prepros_text</th>\n",
              "      <th>Message</th>\n",
              "      <th>Category</th>\n",
              "      <th>Message Length</th>\n",
              "      <th>Label</th>\n",
              "      <th>Separated_Words</th>\n",
              "    </tr>\n",
              "  </thead>\n",
              "  <tbody>\n",
              "    <tr>\n",
              "      <th>0</th>\n",
              "      <td>Wed Oct 18 09:04:13 +0000 2023</td>\n",
              "      <td>zkldnq2</td>\n",
              "      <td>@Perju4ng4n @Gerindra @PartaiSocmed @corbuzier...</td>\n",
              "      <td>sukses trs pak prabowo projo dukung prabowo</td>\n",
              "      <td>sukses trs prabowo projo dukung prabowo</td>\n",
              "      <td>nonblack-campaign</td>\n",
              "      <td>39</td>\n",
              "      <td>0</td>\n",
              "      <td>[sukses, trs, prabowo, projo, dukung, prabowo]</td>\n",
              "    </tr>\n",
              "    <tr>\n",
              "      <th>1</th>\n",
              "      <td>Tue Oct 10 11:40:52 +0000 2023</td>\n",
              "      <td>giojen_bigwin</td>\n",
              "      <td>@HensuAja @__AnakKolong @datuakrajoangek @prab...</td>\n",
              "      <td>anakkolong bentar lg juga di mute nih anak mas...</td>\n",
              "      <td>anakkolong bentar lg mute anak bikin hancur ku...</td>\n",
              "      <td>black-campaign</td>\n",
              "      <td>54</td>\n",
              "      <td>1</td>\n",
              "      <td>[anakkolong, bentar, lg, mute, anak, bikin, ha...</td>\n",
              "    </tr>\n",
              "    <tr>\n",
              "      <th>2</th>\n",
              "      <td>Tue Oct 03 09:31:35 +0000 2023</td>\n",
              "      <td>LutfiatiAsyifa</td>\n",
              "      <td>@negativisme @prabowo @ganjarpranowo @aniesbas...</td>\n",
              "      <td>setuju desa gw sama juga mana uda periode kaga...</td>\n",
              "      <td>tuju desa gw uda periode kagak becus</td>\n",
              "      <td>black-campaign</td>\n",
              "      <td>36</td>\n",
              "      <td>1</td>\n",
              "      <td>[tuju, desa, gw, uda, periode, kagak, becus]</td>\n",
              "    </tr>\n",
              "    <tr>\n",
              "      <th>3</th>\n",
              "      <td>Sat Oct 21 01:15:20 +0000 2023</td>\n",
              "      <td>MbakYanti_Manis</td>\n",
              "      <td>Ganjar Pranowo - Mahfud MD Menuju Indonesia Un...</td>\n",
              "      <td>ganjar pranowo mahfud md menuju indonesia ungg...</td>\n",
              "      <td>ganjar pranowo mahfud md indonesia unggul wuju...</td>\n",
              "      <td>nonblack-campaign</td>\n",
              "      <td>119</td>\n",
              "      <td>0</td>\n",
              "      <td>[ganjar, pranowo, mahfud, md, indonesia, unggu...</td>\n",
              "    </tr>\n",
              "    <tr>\n",
              "      <th>4</th>\n",
              "      <td>Tue Aug 22 03:33:24 +0000 2023</td>\n",
              "      <td>BaddrusB24865</td>\n",
              "      <td>@Tjel0up Pak @prabowo Dan pak @ganjarpranowo  ...</td>\n",
              "      <td>pak dan pak hariiii lah dipuji kami pemikiran ...</td>\n",
              "      <td>hariiii puji pikir objektif nilai pilih baik</td>\n",
              "      <td>black-campaign</td>\n",
              "      <td>44</td>\n",
              "      <td>1</td>\n",
              "      <td>[hariiii, puji, pikir, objektif, nilai, pilih,...</td>\n",
              "    </tr>\n",
              "    <tr>\n",
              "      <th>...</th>\n",
              "      <td>...</td>\n",
              "      <td>...</td>\n",
              "      <td>...</td>\n",
              "      <td>...</td>\n",
              "      <td>...</td>\n",
              "      <td>...</td>\n",
              "      <td>...</td>\n",
              "      <td>...</td>\n",
              "      <td>...</td>\n",
              "    </tr>\n",
              "    <tr>\n",
              "      <th>5619</th>\n",
              "      <td>Thu Oct 19 06:18:00 +0000 2023</td>\n",
              "      <td>jungkiouk</td>\n",
              "      <td>Pada tau gak sihðŸ¤”?! Anies Baswedan sukses b...</td>\n",
              "      <td>pada tau gak sih anies baswedan sukses bangun ...</td>\n",
              "      <td>anies baswedan sukses bangun sekolah kelas dun...</td>\n",
              "      <td>nonblack-campaign</td>\n",
              "      <td>71</td>\n",
              "      <td>0</td>\n",
              "      <td>[anies, baswedan, sukses, bangun, sekolah, kel...</td>\n",
              "    </tr>\n",
              "    <tr>\n",
              "      <th>5620</th>\n",
              "      <td>Sat Oct 21 12:33:22 +0000 2023</td>\n",
              "      <td>Akhmad67523072</td>\n",
              "      <td>Terlihat jelas ke ikhlassn,kejujuran dan ketul...</td>\n",
              "      <td>terlihat jelas ke ikhlassnkejujuran dan ketulu...</td>\n",
              "      <td>ikhlassnkejujuran tulus tuk abdi rakyat kesan ...</td>\n",
              "      <td>nonblack-campaign</td>\n",
              "      <td>133</td>\n",
              "      <td>0</td>\n",
              "      <td>[ikhlassnkejujuran, tulus, tuk, abdi, rakyat, ...</td>\n",
              "    </tr>\n",
              "    <tr>\n",
              "      <th>5621</th>\n",
              "      <td>Fri Oct 20 09:44:52 +0000 2023</td>\n",
              "      <td>dikarst11</td>\n",
              "      <td>@KataNadiaaa Dukung pak ganjar insyaallah past...</td>\n",
              "      <td>dukung pak ganjar insyaallah pasti menang</td>\n",
              "      <td>dukung ganjar insyaallah menang</td>\n",
              "      <td>nonblack-campaign</td>\n",
              "      <td>31</td>\n",
              "      <td>0</td>\n",
              "      <td>[dukung, ganjar, insyaallah, menang]</td>\n",
              "    </tr>\n",
              "    <tr>\n",
              "      <th>5622</th>\n",
              "      <td>Tue May 23 00:47:55 +0000 2023</td>\n",
              "      <td>silobahata</td>\n",
              "      <td>Kpk kerjaannya selama ini apa dong. Yg korupsi...</td>\n",
              "      <td>kpk kerjaannya selama ini apa dong yg korupsi ...</td>\n",
              "      <td>kpk kerja korupsi triliun tangkap anies berfoy...</td>\n",
              "      <td>black-campaign</td>\n",
              "      <td>113</td>\n",
              "      <td>1</td>\n",
              "      <td>[kpk, kerja, korupsi, triliun, tangkap, anies,...</td>\n",
              "    </tr>\n",
              "    <tr>\n",
              "      <th>5623</th>\n",
              "      <td>Sat Oct 21 04:54:29 +0000 2023</td>\n",
              "      <td>L1L178</td>\n",
              "      <td>Salah satu Visi misi pasangan Ganjar Mahfud ad...</td>\n",
              "      <td>salah satu visi misi pasangan ganjar mahfud ad...</td>\n",
              "      <td>salah visi misi pasang ganjar mahfud lestari c...</td>\n",
              "      <td>nonblack-campaign</td>\n",
              "      <td>126</td>\n",
              "      <td>0</td>\n",
              "      <td>[salah, visi, misi, pasang, ganjar, mahfud, le...</td>\n",
              "    </tr>\n",
              "  </tbody>\n",
              "</table>\n",
              "<p>5624 rows × 9 columns</p>\n",
              "</div>\n",
              "    <div class=\"colab-df-buttons\">\n",
              "\n",
              "  <div class=\"colab-df-container\">\n",
              "    <button class=\"colab-df-convert\" onclick=\"convertToInteractive('df-2dc1cce6-c84a-4cf1-8203-731b6175dfe7')\"\n",
              "            title=\"Convert this dataframe to an interactive table.\"\n",
              "            style=\"display:none;\">\n",
              "\n",
              "  <svg xmlns=\"http://www.w3.org/2000/svg\" height=\"24px\" viewBox=\"0 -960 960 960\">\n",
              "    <path d=\"M120-120v-720h720v720H120Zm60-500h600v-160H180v160Zm220 220h160v-160H400v160Zm0 220h160v-160H400v160ZM180-400h160v-160H180v160Zm440 0h160v-160H620v160ZM180-180h160v-160H180v160Zm440 0h160v-160H620v160Z\"/>\n",
              "  </svg>\n",
              "    </button>\n",
              "\n",
              "  <style>\n",
              "    .colab-df-container {\n",
              "      display:flex;\n",
              "      gap: 12px;\n",
              "    }\n",
              "\n",
              "    .colab-df-convert {\n",
              "      background-color: #E8F0FE;\n",
              "      border: none;\n",
              "      border-radius: 50%;\n",
              "      cursor: pointer;\n",
              "      display: none;\n",
              "      fill: #1967D2;\n",
              "      height: 32px;\n",
              "      padding: 0 0 0 0;\n",
              "      width: 32px;\n",
              "    }\n",
              "\n",
              "    .colab-df-convert:hover {\n",
              "      background-color: #E2EBFA;\n",
              "      box-shadow: 0px 1px 2px rgba(60, 64, 67, 0.3), 0px 1px 3px 1px rgba(60, 64, 67, 0.15);\n",
              "      fill: #174EA6;\n",
              "    }\n",
              "\n",
              "    .colab-df-buttons div {\n",
              "      margin-bottom: 4px;\n",
              "    }\n",
              "\n",
              "    [theme=dark] .colab-df-convert {\n",
              "      background-color: #3B4455;\n",
              "      fill: #D2E3FC;\n",
              "    }\n",
              "\n",
              "    [theme=dark] .colab-df-convert:hover {\n",
              "      background-color: #434B5C;\n",
              "      box-shadow: 0px 1px 3px 1px rgba(0, 0, 0, 0.15);\n",
              "      filter: drop-shadow(0px 1px 2px rgba(0, 0, 0, 0.3));\n",
              "      fill: #FFFFFF;\n",
              "    }\n",
              "  </style>\n",
              "\n",
              "    <script>\n",
              "      const buttonEl =\n",
              "        document.querySelector('#df-2dc1cce6-c84a-4cf1-8203-731b6175dfe7 button.colab-df-convert');\n",
              "      buttonEl.style.display =\n",
              "        google.colab.kernel.accessAllowed ? 'block' : 'none';\n",
              "\n",
              "      async function convertToInteractive(key) {\n",
              "        const element = document.querySelector('#df-2dc1cce6-c84a-4cf1-8203-731b6175dfe7');\n",
              "        const dataTable =\n",
              "          await google.colab.kernel.invokeFunction('convertToInteractive',\n",
              "                                                    [key], {});\n",
              "        if (!dataTable) return;\n",
              "\n",
              "        const docLinkHtml = 'Like what you see? Visit the ' +\n",
              "          '<a target=\"_blank\" href=https://colab.research.google.com/notebooks/data_table.ipynb>data table notebook</a>'\n",
              "          + ' to learn more about interactive tables.';\n",
              "        element.innerHTML = '';\n",
              "        dataTable['output_type'] = 'display_data';\n",
              "        await google.colab.output.renderOutput(dataTable, element);\n",
              "        const docLink = document.createElement('div');\n",
              "        docLink.innerHTML = docLinkHtml;\n",
              "        element.appendChild(docLink);\n",
              "      }\n",
              "    </script>\n",
              "  </div>\n",
              "\n",
              "\n",
              "<div id=\"df-bd14ab68-701c-4f64-8df4-7985c20bce5a\">\n",
              "  <button class=\"colab-df-quickchart\" onclick=\"quickchart('df-bd14ab68-701c-4f64-8df4-7985c20bce5a')\"\n",
              "            title=\"Suggest charts\"\n",
              "            style=\"display:none;\">\n",
              "\n",
              "<svg xmlns=\"http://www.w3.org/2000/svg\" height=\"24px\"viewBox=\"0 0 24 24\"\n",
              "     width=\"24px\">\n",
              "    <g>\n",
              "        <path d=\"M19 3H5c-1.1 0-2 .9-2 2v14c0 1.1.9 2 2 2h14c1.1 0 2-.9 2-2V5c0-1.1-.9-2-2-2zM9 17H7v-7h2v7zm4 0h-2V7h2v10zm4 0h-2v-4h2v4z\"/>\n",
              "    </g>\n",
              "</svg>\n",
              "  </button>\n",
              "\n",
              "<style>\n",
              "  .colab-df-quickchart {\n",
              "      --bg-color: #E8F0FE;\n",
              "      --fill-color: #1967D2;\n",
              "      --hover-bg-color: #E2EBFA;\n",
              "      --hover-fill-color: #174EA6;\n",
              "      --disabled-fill-color: #AAA;\n",
              "      --disabled-bg-color: #DDD;\n",
              "  }\n",
              "\n",
              "  [theme=dark] .colab-df-quickchart {\n",
              "      --bg-color: #3B4455;\n",
              "      --fill-color: #D2E3FC;\n",
              "      --hover-bg-color: #434B5C;\n",
              "      --hover-fill-color: #FFFFFF;\n",
              "      --disabled-bg-color: #3B4455;\n",
              "      --disabled-fill-color: #666;\n",
              "  }\n",
              "\n",
              "  .colab-df-quickchart {\n",
              "    background-color: var(--bg-color);\n",
              "    border: none;\n",
              "    border-radius: 50%;\n",
              "    cursor: pointer;\n",
              "    display: none;\n",
              "    fill: var(--fill-color);\n",
              "    height: 32px;\n",
              "    padding: 0;\n",
              "    width: 32px;\n",
              "  }\n",
              "\n",
              "  .colab-df-quickchart:hover {\n",
              "    background-color: var(--hover-bg-color);\n",
              "    box-shadow: 0 1px 2px rgba(60, 64, 67, 0.3), 0 1px 3px 1px rgba(60, 64, 67, 0.15);\n",
              "    fill: var(--button-hover-fill-color);\n",
              "  }\n",
              "\n",
              "  .colab-df-quickchart-complete:disabled,\n",
              "  .colab-df-quickchart-complete:disabled:hover {\n",
              "    background-color: var(--disabled-bg-color);\n",
              "    fill: var(--disabled-fill-color);\n",
              "    box-shadow: none;\n",
              "  }\n",
              "\n",
              "  .colab-df-spinner {\n",
              "    border: 2px solid var(--fill-color);\n",
              "    border-color: transparent;\n",
              "    border-bottom-color: var(--fill-color);\n",
              "    animation:\n",
              "      spin 1s steps(1) infinite;\n",
              "  }\n",
              "\n",
              "  @keyframes spin {\n",
              "    0% {\n",
              "      border-color: transparent;\n",
              "      border-bottom-color: var(--fill-color);\n",
              "      border-left-color: var(--fill-color);\n",
              "    }\n",
              "    20% {\n",
              "      border-color: transparent;\n",
              "      border-left-color: var(--fill-color);\n",
              "      border-top-color: var(--fill-color);\n",
              "    }\n",
              "    30% {\n",
              "      border-color: transparent;\n",
              "      border-left-color: var(--fill-color);\n",
              "      border-top-color: var(--fill-color);\n",
              "      border-right-color: var(--fill-color);\n",
              "    }\n",
              "    40% {\n",
              "      border-color: transparent;\n",
              "      border-right-color: var(--fill-color);\n",
              "      border-top-color: var(--fill-color);\n",
              "    }\n",
              "    60% {\n",
              "      border-color: transparent;\n",
              "      border-right-color: var(--fill-color);\n",
              "    }\n",
              "    80% {\n",
              "      border-color: transparent;\n",
              "      border-right-color: var(--fill-color);\n",
              "      border-bottom-color: var(--fill-color);\n",
              "    }\n",
              "    90% {\n",
              "      border-color: transparent;\n",
              "      border-bottom-color: var(--fill-color);\n",
              "    }\n",
              "  }\n",
              "</style>\n",
              "\n",
              "  <script>\n",
              "    async function quickchart(key) {\n",
              "      const quickchartButtonEl =\n",
              "        document.querySelector('#' + key + ' button');\n",
              "      quickchartButtonEl.disabled = true;  // To prevent multiple clicks.\n",
              "      quickchartButtonEl.classList.add('colab-df-spinner');\n",
              "      try {\n",
              "        const charts = await google.colab.kernel.invokeFunction(\n",
              "            'suggestCharts', [key], {});\n",
              "      } catch (error) {\n",
              "        console.error('Error during call to suggestCharts:', error);\n",
              "      }\n",
              "      quickchartButtonEl.classList.remove('colab-df-spinner');\n",
              "      quickchartButtonEl.classList.add('colab-df-quickchart-complete');\n",
              "    }\n",
              "    (() => {\n",
              "      let quickchartButtonEl =\n",
              "        document.querySelector('#df-bd14ab68-701c-4f64-8df4-7985c20bce5a button');\n",
              "      quickchartButtonEl.style.display =\n",
              "        google.colab.kernel.accessAllowed ? 'block' : 'none';\n",
              "    })();\n",
              "  </script>\n",
              "</div>\n",
              "    </div>\n",
              "  </div>\n"
            ]
          },
          "metadata": {},
          "execution_count": 96
        }
      ]
    },
    {
      "cell_type": "code",
      "source": [
        "# Menghitung jumlah baris pada DataFrame\n",
        "jumlah_data = df.shape[0]\n",
        "print(\"Jumlah Data:\", jumlah_data)"
      ],
      "metadata": {
        "colab": {
          "base_uri": "https://localhost:8080/"
        },
        "id": "-8aiLkqp90gk",
        "outputId": "c851b931-c1fa-400a-8a2e-8f5b6cb523d2"
      },
      "execution_count": null,
      "outputs": [
        {
          "output_type": "stream",
          "name": "stdout",
          "text": [
            "Jumlah Data: 5624\n"
          ]
        }
      ]
    },
    {
      "cell_type": "code",
      "source": [
        "# Simpan DataFrame ke file CSV\n",
        "df.to_csv('data/all-data-balance.csv', index=False)\n",
        "\n",
        "# Cek hasilnya\n",
        "print(\"DataFrame telah disimpan ke folder datasets_new\")"
      ],
      "metadata": {
        "colab": {
          "base_uri": "https://localhost:8080/"
        },
        "id": "HfqaMYZOIM1K",
        "outputId": "42b4eb15-768d-4923-8b9c-f3c89c566b40"
      },
      "execution_count": null,
      "outputs": [
        {
          "output_type": "stream",
          "name": "stdout",
          "text": [
            "DataFrame telah disimpan ke folder datasets_new\n"
          ]
        }
      ]
    }
  ]
}